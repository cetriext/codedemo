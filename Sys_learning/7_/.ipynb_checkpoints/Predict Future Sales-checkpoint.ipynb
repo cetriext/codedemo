{
 "cells": [
  {
   "cell_type": "code",
   "execution_count": 1,
   "id": "4ae6b2b9-8f02-49c4-8d1a-f61963c14f28",
   "metadata": {},
   "outputs": [],
   "source": [
    "# 基本的なパッケージ\n",
    "import numpy as np # 線形代数\n",
    "import pandas as pd # データの加工, CSVファイルのI/O (e.g. pd.read_csv)\n",
    "import random as rd # 乱数の生成\n",
    "import datetime # manipulating date formats\n",
    "# 可視化用\n",
    "import matplotlib.pyplot as plt # basic plotting\n",
    "import seaborn as sns # for prettier plots\n",
    "\n",
    "\n",
    "# 時系列解析用\n",
    "from statsmodels.tsa.arima_model import ARIMA\n",
    "from statsmodels.tsa.statespace.sarimax import SARIMAX\n",
    "from pandas.plotting import autocorrelation_plot\n",
    "from statsmodels.tsa.stattools import adfuller, acf, pacf,arma_order_select_ic\n",
    "import statsmodels.formula.api as smf\n",
    "import statsmodels.tsa.api as smt\n",
    "import statsmodels.api as sm\n",
    "import scipy.stats as scs\n",
    "\n",
    "\n",
    "# 設定\n",
    "import warnings\n",
    "warnings.filterwarnings(\"ignore\")"
   ]
  },
  {
   "cell_type": "code",
   "execution_count": 2,
   "id": "22ec623f-3eeb-4f7b-ac68-6c3cb42f9522",
   "metadata": {},
   "outputs": [],
   "source": [
    "data = pd.read_csv(r\"C:\\Users\\xuhan\\Desktop\\我的坚果云\\Sys_learning\\7_\\competitive-data-science-predict-future-sales\\sales_train.csv\"\n",
    "                  )\n",
    "item_cat=pd.read_csv(r\"C:\\Users\\xuhan\\Desktop\\我的坚果云\\Sys_learning\\7_\\competitive-data-science-predict-future-sales\\item_categories.csv\")\n",
    "item=pd.read_csv(r\"C:\\Users\\xuhan\\Desktop\\我的坚果云\\Sys_learning\\7_\\competitive-data-science-predict-future-sales\\items.csv\")\n",
    "sub=pd.read_csv(r\"C:\\Users\\xuhan\\Desktop\\我的坚果云\\Sys_learning\\7_\\competitive-data-science-predict-future-sales\\sample_submission.csv\")\n",
    "shops=pd.read_csv(r\"C:\\Users\\xuhan\\Desktop\\我的坚果云\\Sys_learning\\7_\\competitive-data-science-predict-future-sales\\shops.csv\")\n",
    "test=pd.read_csv(r\"C:\\Users\\xuhan\\Desktop\\我的坚果云\\Sys_learning\\7_\\competitive-data-science-predict-future-sales\\test.csv\")"
   ]
  },
  {
   "cell_type": "code",
   "execution_count": 3,
   "id": "e06832d5-1b99-49e2-8299-f3a24e89b7ec",
   "metadata": {},
   "outputs": [
    {
     "data": {
      "text/html": [
       "<div>\n",
       "<style scoped>\n",
       "    .dataframe tbody tr th:only-of-type {\n",
       "        vertical-align: middle;\n",
       "    }\n",
       "\n",
       "    .dataframe tbody tr th {\n",
       "        vertical-align: top;\n",
       "    }\n",
       "\n",
       "    .dataframe thead th {\n",
       "        text-align: right;\n",
       "    }\n",
       "</style>\n",
       "<table border=\"1\" class=\"dataframe\">\n",
       "  <thead>\n",
       "    <tr style=\"text-align: right;\">\n",
       "      <th></th>\n",
       "      <th>date</th>\n",
       "      <th>date_block_num</th>\n",
       "      <th>shop_id</th>\n",
       "      <th>item_id</th>\n",
       "      <th>item_price</th>\n",
       "      <th>item_cnt_day</th>\n",
       "    </tr>\n",
       "  </thead>\n",
       "  <tbody>\n",
       "    <tr>\n",
       "      <th>0</th>\n",
       "      <td>02.01.2013</td>\n",
       "      <td>0</td>\n",
       "      <td>59</td>\n",
       "      <td>22154</td>\n",
       "      <td>999.00</td>\n",
       "      <td>1.0</td>\n",
       "    </tr>\n",
       "    <tr>\n",
       "      <th>1</th>\n",
       "      <td>03.01.2013</td>\n",
       "      <td>0</td>\n",
       "      <td>25</td>\n",
       "      <td>2552</td>\n",
       "      <td>899.00</td>\n",
       "      <td>1.0</td>\n",
       "    </tr>\n",
       "    <tr>\n",
       "      <th>2</th>\n",
       "      <td>05.01.2013</td>\n",
       "      <td>0</td>\n",
       "      <td>25</td>\n",
       "      <td>2552</td>\n",
       "      <td>899.00</td>\n",
       "      <td>-1.0</td>\n",
       "    </tr>\n",
       "    <tr>\n",
       "      <th>3</th>\n",
       "      <td>06.01.2013</td>\n",
       "      <td>0</td>\n",
       "      <td>25</td>\n",
       "      <td>2554</td>\n",
       "      <td>1709.05</td>\n",
       "      <td>1.0</td>\n",
       "    </tr>\n",
       "    <tr>\n",
       "      <th>4</th>\n",
       "      <td>15.01.2013</td>\n",
       "      <td>0</td>\n",
       "      <td>25</td>\n",
       "      <td>2555</td>\n",
       "      <td>1099.00</td>\n",
       "      <td>1.0</td>\n",
       "    </tr>\n",
       "  </tbody>\n",
       "</table>\n",
       "</div>"
      ],
      "text/plain": [
       "         date  date_block_num  shop_id  item_id  item_price  item_cnt_day\n",
       "0  02.01.2013               0       59    22154      999.00           1.0\n",
       "1  03.01.2013               0       25     2552      899.00           1.0\n",
       "2  05.01.2013               0       25     2552      899.00          -1.0\n",
       "3  06.01.2013               0       25     2554     1709.05           1.0\n",
       "4  15.01.2013               0       25     2555     1099.00           1.0"
      ]
     },
     "execution_count": 3,
     "metadata": {},
     "output_type": "execute_result"
    }
   ],
   "source": [
    "data.head()"
   ]
  },
  {
   "cell_type": "code",
   "execution_count": 4,
   "id": "4b6b7d35-7604-41f6-a161-71490168b40d",
   "metadata": {},
   "outputs": [
    {
     "data": {
      "text/html": [
       "<div>\n",
       "<style scoped>\n",
       "    .dataframe tbody tr th:only-of-type {\n",
       "        vertical-align: middle;\n",
       "    }\n",
       "\n",
       "    .dataframe tbody tr th {\n",
       "        vertical-align: top;\n",
       "    }\n",
       "\n",
       "    .dataframe thead th {\n",
       "        text-align: right;\n",
       "    }\n",
       "</style>\n",
       "<table border=\"1\" class=\"dataframe\">\n",
       "  <thead>\n",
       "    <tr style=\"text-align: right;\">\n",
       "      <th></th>\n",
       "      <th>date</th>\n",
       "      <th>date_block_num</th>\n",
       "      <th>shop_id</th>\n",
       "      <th>item_id</th>\n",
       "      <th>item_price</th>\n",
       "      <th>item_cnt_day</th>\n",
       "    </tr>\n",
       "    <tr>\n",
       "      <th>date</th>\n",
       "      <th></th>\n",
       "      <th></th>\n",
       "      <th></th>\n",
       "      <th></th>\n",
       "      <th></th>\n",
       "      <th></th>\n",
       "    </tr>\n",
       "  </thead>\n",
       "  <tbody>\n",
       "    <tr>\n",
       "      <th>2013-02-01</th>\n",
       "      <td>2013-02-01</td>\n",
       "      <td>0</td>\n",
       "      <td>59</td>\n",
       "      <td>22154</td>\n",
       "      <td>999.00</td>\n",
       "      <td>1.0</td>\n",
       "    </tr>\n",
       "    <tr>\n",
       "      <th>2013-03-01</th>\n",
       "      <td>2013-03-01</td>\n",
       "      <td>0</td>\n",
       "      <td>25</td>\n",
       "      <td>2552</td>\n",
       "      <td>899.00</td>\n",
       "      <td>1.0</td>\n",
       "    </tr>\n",
       "    <tr>\n",
       "      <th>2013-05-01</th>\n",
       "      <td>2013-05-01</td>\n",
       "      <td>0</td>\n",
       "      <td>25</td>\n",
       "      <td>2552</td>\n",
       "      <td>899.00</td>\n",
       "      <td>-1.0</td>\n",
       "    </tr>\n",
       "    <tr>\n",
       "      <th>2013-06-01</th>\n",
       "      <td>2013-06-01</td>\n",
       "      <td>0</td>\n",
       "      <td>25</td>\n",
       "      <td>2554</td>\n",
       "      <td>1709.05</td>\n",
       "      <td>1.0</td>\n",
       "    </tr>\n",
       "    <tr>\n",
       "      <th>2013-01-15</th>\n",
       "      <td>2013-01-15</td>\n",
       "      <td>0</td>\n",
       "      <td>25</td>\n",
       "      <td>2555</td>\n",
       "      <td>1099.00</td>\n",
       "      <td>1.0</td>\n",
       "    </tr>\n",
       "  </tbody>\n",
       "</table>\n",
       "</div>"
      ],
      "text/plain": [
       "                 date  date_block_num  shop_id  item_id  item_price  \\\n",
       "date                                                                  \n",
       "2013-02-01 2013-02-01               0       59    22154      999.00   \n",
       "2013-03-01 2013-03-01               0       25     2552      899.00   \n",
       "2013-05-01 2013-05-01               0       25     2552      899.00   \n",
       "2013-06-01 2013-06-01               0       25     2554     1709.05   \n",
       "2013-01-15 2013-01-15               0       25     2555     1099.00   \n",
       "\n",
       "            item_cnt_day  \n",
       "date                      \n",
       "2013-02-01           1.0  \n",
       "2013-03-01           1.0  \n",
       "2013-05-01          -1.0  \n",
       "2013-06-01           1.0  \n",
       "2013-01-15           1.0  "
      ]
     },
     "execution_count": 4,
     "metadata": {},
     "output_type": "execute_result"
    }
   ],
   "source": [
    "df_tmp = data.copy()\n",
    "df_tmp.reset_index(inplace=True)#单独添加一行序号，而不是把report_date作为序号\n",
    "df_tmp['date'] = pd.to_datetime(df_tmp['date']\n",
    "                               # , format='%Y%m%d'\n",
    "                               )#把时间变成月日年格\n",
    "df_tmp.index = df_tmp['date']\n",
    "df_tmp.drop('index',axis = 1, inplace = True)\n",
    "#df_tmp.drop('date',axis = 1, inplace = True)\n",
    "df_tmp.head()"
   ]
  },
  {
   "cell_type": "code",
   "execution_count": 5,
   "id": "cde0d18d-7e67-4b52-97b0-b9e72d46e45b",
   "metadata": {},
   "outputs": [],
   "source": [
    "monthly_sales=df_tmp.groupby([\"date_block_num\",\"shop_id\",\"item_id\"])[\n",
    "    \"date\",\"item_price\",\"item_cnt_day\"].agg(\n",
    "    {\"date\":[\"min\",'max'],\"item_price\":\"mean\",\"item_cnt_day\":\"sum\"})"
   ]
  },
  {
   "cell_type": "code",
   "execution_count": 6,
   "id": "3324aa9b-9613-48f6-9044-00872d3ae1a1",
   "metadata": {
    "tags": []
   },
   "outputs": [
    {
     "data": {
      "text/html": [
       "<div>\n",
       "<style scoped>\n",
       "    .dataframe tbody tr th:only-of-type {\n",
       "        vertical-align: middle;\n",
       "    }\n",
       "\n",
       "    .dataframe tbody tr th {\n",
       "        vertical-align: top;\n",
       "    }\n",
       "\n",
       "    .dataframe thead tr th {\n",
       "        text-align: left;\n",
       "    }\n",
       "\n",
       "    .dataframe thead tr:last-of-type th {\n",
       "        text-align: right;\n",
       "    }\n",
       "</style>\n",
       "<table border=\"1\" class=\"dataframe\">\n",
       "  <thead>\n",
       "    <tr>\n",
       "      <th></th>\n",
       "      <th></th>\n",
       "      <th></th>\n",
       "      <th colspan=\"2\" halign=\"left\">date</th>\n",
       "      <th>item_price</th>\n",
       "      <th>item_cnt_day</th>\n",
       "    </tr>\n",
       "    <tr>\n",
       "      <th></th>\n",
       "      <th></th>\n",
       "      <th></th>\n",
       "      <th>min</th>\n",
       "      <th>max</th>\n",
       "      <th>mean</th>\n",
       "      <th>sum</th>\n",
       "    </tr>\n",
       "    <tr>\n",
       "      <th>date_block_num</th>\n",
       "      <th>shop_id</th>\n",
       "      <th>item_id</th>\n",
       "      <th></th>\n",
       "      <th></th>\n",
       "      <th></th>\n",
       "      <th></th>\n",
       "    </tr>\n",
       "  </thead>\n",
       "  <tbody>\n",
       "    <tr>\n",
       "      <th rowspan=\"20\" valign=\"top\">0</th>\n",
       "      <th rowspan=\"20\" valign=\"top\">0</th>\n",
       "      <th>32</th>\n",
       "      <td>2013-01-21</td>\n",
       "      <td>2013-03-01</td>\n",
       "      <td>221.0</td>\n",
       "      <td>6.0</td>\n",
       "    </tr>\n",
       "    <tr>\n",
       "      <th>33</th>\n",
       "      <td>2013-01-17</td>\n",
       "      <td>2013-03-01</td>\n",
       "      <td>347.0</td>\n",
       "      <td>3.0</td>\n",
       "    </tr>\n",
       "    <tr>\n",
       "      <th>35</th>\n",
       "      <td>2013-01-31</td>\n",
       "      <td>2013-01-31</td>\n",
       "      <td>247.0</td>\n",
       "      <td>1.0</td>\n",
       "    </tr>\n",
       "    <tr>\n",
       "      <th>43</th>\n",
       "      <td>2013-01-31</td>\n",
       "      <td>2013-01-31</td>\n",
       "      <td>221.0</td>\n",
       "      <td>1.0</td>\n",
       "    </tr>\n",
       "    <tr>\n",
       "      <th>51</th>\n",
       "      <td>2013-01-13</td>\n",
       "      <td>2013-01-31</td>\n",
       "      <td>128.5</td>\n",
       "      <td>2.0</td>\n",
       "    </tr>\n",
       "    <tr>\n",
       "      <th>61</th>\n",
       "      <td>2013-10-01</td>\n",
       "      <td>2013-10-01</td>\n",
       "      <td>195.0</td>\n",
       "      <td>1.0</td>\n",
       "    </tr>\n",
       "    <tr>\n",
       "      <th>75</th>\n",
       "      <td>2013-01-17</td>\n",
       "      <td>2013-01-17</td>\n",
       "      <td>76.0</td>\n",
       "      <td>1.0</td>\n",
       "    </tr>\n",
       "    <tr>\n",
       "      <th>88</th>\n",
       "      <td>2013-01-16</td>\n",
       "      <td>2013-01-16</td>\n",
       "      <td>76.0</td>\n",
       "      <td>1.0</td>\n",
       "    </tr>\n",
       "    <tr>\n",
       "      <th>95</th>\n",
       "      <td>2013-06-01</td>\n",
       "      <td>2013-06-01</td>\n",
       "      <td>193.0</td>\n",
       "      <td>1.0</td>\n",
       "    </tr>\n",
       "    <tr>\n",
       "      <th>96</th>\n",
       "      <td>2013-10-01</td>\n",
       "      <td>2013-10-01</td>\n",
       "      <td>70.0</td>\n",
       "      <td>1.0</td>\n",
       "    </tr>\n",
       "    <tr>\n",
       "      <th>98</th>\n",
       "      <td>2013-01-13</td>\n",
       "      <td>2013-12-01</td>\n",
       "      <td>268.0</td>\n",
       "      <td>25.0</td>\n",
       "    </tr>\n",
       "    <tr>\n",
       "      <th>111</th>\n",
       "      <td>2013-01-17</td>\n",
       "      <td>2013-01-17</td>\n",
       "      <td>89.0</td>\n",
       "      <td>1.0</td>\n",
       "    </tr>\n",
       "    <tr>\n",
       "      <th>149</th>\n",
       "      <td>2013-01-17</td>\n",
       "      <td>2013-11-01</td>\n",
       "      <td>99.0</td>\n",
       "      <td>3.0</td>\n",
       "    </tr>\n",
       "    <tr>\n",
       "      <th>151</th>\n",
       "      <td>2013-01-16</td>\n",
       "      <td>2013-01-16</td>\n",
       "      <td>75.0</td>\n",
       "      <td>1.0</td>\n",
       "    </tr>\n",
       "    <tr>\n",
       "      <th>153</th>\n",
       "      <td>2013-09-01</td>\n",
       "      <td>2013-09-01</td>\n",
       "      <td>258.0</td>\n",
       "      <td>1.0</td>\n",
       "    </tr>\n",
       "    <tr>\n",
       "      <th>198</th>\n",
       "      <td>2013-10-01</td>\n",
       "      <td>2013-10-01</td>\n",
       "      <td>112.0</td>\n",
       "      <td>1.0</td>\n",
       "    </tr>\n",
       "    <tr>\n",
       "      <th>210</th>\n",
       "      <td>2013-01-25</td>\n",
       "      <td>2013-05-01</td>\n",
       "      <td>118.0</td>\n",
       "      <td>2.0</td>\n",
       "    </tr>\n",
       "    <tr>\n",
       "      <th>282</th>\n",
       "      <td>2013-04-01</td>\n",
       "      <td>2013-04-01</td>\n",
       "      <td>109.0</td>\n",
       "      <td>1.0</td>\n",
       "    </tr>\n",
       "    <tr>\n",
       "      <th>306</th>\n",
       "      <td>2013-01-22</td>\n",
       "      <td>2013-01-22</td>\n",
       "      <td>59.0</td>\n",
       "      <td>1.0</td>\n",
       "    </tr>\n",
       "    <tr>\n",
       "      <th>351</th>\n",
       "      <td>2013-01-21</td>\n",
       "      <td>2013-01-21</td>\n",
       "      <td>89.0</td>\n",
       "      <td>1.0</td>\n",
       "    </tr>\n",
       "  </tbody>\n",
       "</table>\n",
       "</div>"
      ],
      "text/plain": [
       "                                     date            item_price item_cnt_day\n",
       "                                      min        max       mean          sum\n",
       "date_block_num shop_id item_id                                              \n",
       "0              0       32      2013-01-21 2013-03-01      221.0          6.0\n",
       "                       33      2013-01-17 2013-03-01      347.0          3.0\n",
       "                       35      2013-01-31 2013-01-31      247.0          1.0\n",
       "                       43      2013-01-31 2013-01-31      221.0          1.0\n",
       "                       51      2013-01-13 2013-01-31      128.5          2.0\n",
       "                       61      2013-10-01 2013-10-01      195.0          1.0\n",
       "                       75      2013-01-17 2013-01-17       76.0          1.0\n",
       "                       88      2013-01-16 2013-01-16       76.0          1.0\n",
       "                       95      2013-06-01 2013-06-01      193.0          1.0\n",
       "                       96      2013-10-01 2013-10-01       70.0          1.0\n",
       "                       98      2013-01-13 2013-12-01      268.0         25.0\n",
       "                       111     2013-01-17 2013-01-17       89.0          1.0\n",
       "                       149     2013-01-17 2013-11-01       99.0          3.0\n",
       "                       151     2013-01-16 2013-01-16       75.0          1.0\n",
       "                       153     2013-09-01 2013-09-01      258.0          1.0\n",
       "                       198     2013-10-01 2013-10-01      112.0          1.0\n",
       "                       210     2013-01-25 2013-05-01      118.0          2.0\n",
       "                       282     2013-04-01 2013-04-01      109.0          1.0\n",
       "                       306     2013-01-22 2013-01-22       59.0          1.0\n",
       "                       351     2013-01-21 2013-01-21       89.0          1.0"
      ]
     },
     "execution_count": 6,
     "metadata": {},
     "output_type": "execute_result"
    }
   ],
   "source": [
    "monthly_sales.head(20)"
   ]
  },
  {
   "cell_type": "code",
   "execution_count": 7,
   "id": "450a1fe4-168a-4d1f-9951-8d3aa08a301f",
   "metadata": {
    "tags": []
   },
   "outputs": [
    {
     "data": {
      "text/html": [
       "<div>\n",
       "<style scoped>\n",
       "    .dataframe tbody tr th:only-of-type {\n",
       "        vertical-align: middle;\n",
       "    }\n",
       "\n",
       "    .dataframe tbody tr th {\n",
       "        vertical-align: top;\n",
       "    }\n",
       "\n",
       "    .dataframe thead th {\n",
       "        text-align: right;\n",
       "    }\n",
       "</style>\n",
       "<table border=\"1\" class=\"dataframe\">\n",
       "  <thead>\n",
       "    <tr style=\"text-align: right;\">\n",
       "      <th></th>\n",
       "      <th>item_category_id</th>\n",
       "      <th>item_name</th>\n",
       "      <th>item_id</th>\n",
       "    </tr>\n",
       "  </thead>\n",
       "  <tbody>\n",
       "    <tr>\n",
       "      <th>0</th>\n",
       "      <td>40</td>\n",
       "      <td>5035</td>\n",
       "      <td>5035</td>\n",
       "    </tr>\n",
       "    <tr>\n",
       "      <th>1</th>\n",
       "      <td>55</td>\n",
       "      <td>2365</td>\n",
       "      <td>2365</td>\n",
       "    </tr>\n",
       "    <tr>\n",
       "      <th>2</th>\n",
       "      <td>37</td>\n",
       "      <td>1780</td>\n",
       "      <td>1780</td>\n",
       "    </tr>\n",
       "    <tr>\n",
       "      <th>3</th>\n",
       "      <td>31</td>\n",
       "      <td>1125</td>\n",
       "      <td>1125</td>\n",
       "    </tr>\n",
       "    <tr>\n",
       "      <th>4</th>\n",
       "      <td>58</td>\n",
       "      <td>790</td>\n",
       "      <td>790</td>\n",
       "    </tr>\n",
       "    <tr>\n",
       "      <th>5</th>\n",
       "      <td>30</td>\n",
       "      <td>756</td>\n",
       "      <td>756</td>\n",
       "    </tr>\n",
       "    <tr>\n",
       "      <th>6</th>\n",
       "      <td>72</td>\n",
       "      <td>666</td>\n",
       "      <td>666</td>\n",
       "    </tr>\n",
       "    <tr>\n",
       "      <th>7</th>\n",
       "      <td>19</td>\n",
       "      <td>628</td>\n",
       "      <td>628</td>\n",
       "    </tr>\n",
       "    <tr>\n",
       "      <th>8</th>\n",
       "      <td>61</td>\n",
       "      <td>598</td>\n",
       "      <td>598</td>\n",
       "    </tr>\n",
       "    <tr>\n",
       "      <th>9</th>\n",
       "      <td>23</td>\n",
       "      <td>501</td>\n",
       "      <td>501</td>\n",
       "    </tr>\n",
       "  </tbody>\n",
       "</table>\n",
       "</div>"
      ],
      "text/plain": [
       "   item_category_id  item_name  item_id\n",
       "0                40       5035     5035\n",
       "1                55       2365     2365\n",
       "2                37       1780     1780\n",
       "3                31       1125     1125\n",
       "4                58        790      790\n",
       "5                30        756      756\n",
       "6                72        666      666\n",
       "7                19        628      628\n",
       "8                61        598      598\n",
       "9                23        501      501"
      ]
     },
     "execution_count": 7,
     "metadata": {},
     "output_type": "execute_result"
    }
   ],
   "source": [
    "#每个类别的项目数\n",
    "x=item.groupby(['item_category_id']).count()\n",
    "x=x.sort_values(by='item_id',ascending=False)\n",
    "x=x.iloc[0:10].reset_index()\n",
    "x"
   ]
  },
  {
   "cell_type": "code",
   "execution_count": 8,
   "id": "e7849fe4-ee8d-4f36-bfbb-6de639f853e3",
   "metadata": {},
   "outputs": [
    {
     "data": {
      "image/png": "[encoded data removed]",
      "text/plain": [
       "<Figure size 576x288 with 1 Axes>"
      ]
     },
     "metadata": {
      "needs_background": "light"
     },
     "output_type": "display_data"
    }
   ],
   "source": [
    "# plot\n",
    "plt.figure(figsize=(8,4))\n",
    "ax = sns.barplot(x.item_category_id, x.item_id, alpha=0.8)\n",
    "plt.title(\"Items per Category\")\n",
    "plt.ylabel('# of items', fontsize=12)\n",
    "plt.xlabel('Category', fontsize=12)\n",
    "plt.show()"
   ]
  },
  {
   "cell_type": "code",
   "execution_count": 9,
   "id": "529bb127-a383-4d3c-b36d-81b4cf78ae4f",
   "metadata": {
    "tags": []
   },
   "outputs": [
    {
     "data": {
      "text/plain": [
       "date_block_num\n",
       "0     131479.0\n",
       "1     128090.0\n",
       "2     147142.0\n",
       "3     107190.0\n",
       "4     106970.0\n",
       "5     125381.0\n",
       "6     116966.0\n",
       "7     125291.0\n",
       "8     133332.0\n",
       "9     127541.0\n",
       "10    130009.0\n",
       "11    183342.0\n",
       "12    116899.0\n",
       "13    109687.0\n",
       "14    115297.0\n",
       "15     96556.0\n",
       "16     97790.0\n",
       "17     97429.0\n",
       "18     91280.0\n",
       "19    102721.0\n",
       "20     99208.0\n",
       "21    107422.0\n",
       "22    117845.0\n",
       "23    168755.0\n",
       "24    110971.0\n",
       "25     84198.0\n",
       "26     82014.0\n",
       "27     77827.0\n",
       "28     72295.0\n",
       "29     64114.0\n",
       "30     63187.0\n",
       "31     66079.0\n",
       "32     72843.0\n",
       "33     71056.0\n",
       "Name: item_cnt_day, dtype: float64"
      ]
     },
     "execution_count": 9,
     "metadata": {},
     "output_type": "execute_result"
    }
   ],
   "source": [
    "#预测整个公司的每月总销售额\n",
    "ts=df_tmp.groupby([\"date_block_num\"])[\"item_cnt_day\"].sum()#date_block_num就是月份\n",
    "ts.astype('float')"
   ]
  },
  {
   "cell_type": "code",
   "execution_count": 10,
   "id": "9705ed0d-c682-48c9-9ce9-03c3feaf8270",
   "metadata": {},
   "outputs": [
    {
     "data": {
      "text/plain": [
       "[<matplotlib.lines.Line2D at 0x18429ff3190>]"
      ]
     },
     "execution_count": 10,
     "metadata": {},
     "output_type": "execute_result"
    },
    {
     "data": {
      "image/png": "[encoded data removed]",
      "text/plain": [
       "<Figure size 1152x576 with 1 Axes>"
      ]
     },
     "metadata": {
      "needs_background": "light"
     },
     "output_type": "display_data"
    }
   ],
   "source": [
    "plt.figure(figsize=(16,8))\n",
    "plt.title('Total Sales of the company')\n",
    "plt.xlabel('Month_sig')\n",
    "plt.ylabel('Sales')\n",
    "plt.plot(ts)"
   ]
  },
  {
   "cell_type": "code",
   "execution_count": 11,
   "id": "742337b9-098d-4f67-9a3a-121f50e14740",
   "metadata": {},
   "outputs": [
    {
     "data": {
      "image/png": "[encoded data removed]",
      "text/plain": [
       "<Figure size 1152x432 with 1 Axes>"
      ]
     },
     "metadata": {
      "needs_background": "light"
     },
     "output_type": "display_data"
    }
   ],
   "source": [
    "plt.figure(figsize=(16,6))\n",
    "plt.plot(ts.rolling(window=12,center=False).mean(),label='Rolling Mean');\n",
    "#pandas移动窗口，每12取一个平均值或标准差\n",
    "plt.plot(ts.rolling(window=12,center=False).std(),label='Rolling sd');\n",
    "plt.legend();"
   ]
  },
  {
   "cell_type": "code",
   "execution_count": 12,
   "id": "8aff475a-4f3b-4e89-88c9-3c1ea560ab5e",
   "metadata": {},
   "outputs": [
    {
     "data": {
      "image/png": "[encoded data removed]",
      "text/plain": [
       "<Figure size 432x288 with 4 Axes>"
      ]
     },
     "metadata": {
      "needs_background": "light"
     },
     "output_type": "display_data"
    }
   ],
   "source": [
    "import statsmodels.api as sm\n",
    "# 乘法模型\n",
    "res = sm.tsa.seasonal_decompose(ts.values,freq=12,model=\"multiplicative\")\n",
    "#plt.figure(figsize=(16,12))\n",
    "fig = res.plot()\n",
    "#fig.show()"
   ]
  },
  {
   "cell_type": "code",
   "execution_count": 13,
   "id": "55f7debf-5e6d-4519-a100-2c00437d8e72",
   "metadata": {},
   "outputs": [
    {
     "data": {
      "image/png": "[encoded data removed]",
      "text/plain": [
       "<Figure size 432x288 with 4 Axes>"
      ]
     },
     "metadata": {
      "needs_background": "light"
     },
     "output_type": "display_data"
    }
   ],
   "source": [
    "# 加法模型\n",
    "res = sm.tsa.seasonal_decompose(ts.values,freq=12,model=\"additive\")\n",
    "#plt.figure(figsize=(16,12))\n",
    "fig = res.plot()\n",
    "#fig.show()"
   ]
  },
  {
   "cell_type": "code",
   "execution_count": 14,
   "id": "19b5f40b-a3be-4656-85e8-6b04cf11d605",
   "metadata": {},
   "outputs": [
    {
     "name": "stdout",
     "output_type": "stream",
     "text": [
      "Results of Dickey-Fuller Test:\n",
      "Test Statistic                 -2.395704\n",
      "p-value                         0.142953\n",
      "#Lags Used                      0.000000\n",
      "Number of Observations Used    33.000000\n",
      "Critical Value (1%)            -3.646135\n",
      "Critical Value (5%)            -2.954127\n",
      "Critical Value (10%)           -2.615968\n",
      "dtype: float64\n"
     ]
    }
   ],
   "source": [
    "#检验是不是稳态时间序列模型\n",
    "def test_stationarity(timeseries):\n",
    "    \n",
    "    #Perform Dickey-Fuller test:\n",
    "    print('Results of Dickey-Fuller Test:')\n",
    "    dftest = adfuller(timeseries, autolag='AIC')\n",
    "    dfoutput = pd.Series(dftest[0:4], index=['Test Statistic','p-value','#Lags Used','Number of Observations Used'])\n",
    "    for key,value in dftest[4].items():\n",
    "        dfoutput['Critical Value (%s)'%key] = value\n",
    "    print (dfoutput)\n",
    "\n",
    "test_stationarity(ts)"
   ]
  },
  {
   "cell_type": "code",
   "execution_count": 15,
   "id": "79d1f19c-56c1-43f9-b5b4-08545a2e7a4c",
   "metadata": {},
   "outputs": [],
   "source": [
    "from pandas import Series as Series\n",
    "# create a differenced series\n",
    "def difference(dataset, interval=1):\n",
    "    diff = list()\n",
    "    for i in range(interval, len(dataset)):\n",
    "        value = dataset[i] - dataset[i - interval]\n",
    "        diff.append(value)\n",
    "    return Series(diff)\n",
    "\n",
    "# invert differenced forecast\n",
    "def inverse_difference(last_ob, value):\n",
    "    return value + last_ob"
   ]
  },
  {
   "cell_type": "code",
   "execution_count": 16,
   "id": "d6335a14-d9ff-4f5a-ae8e-c9f97cad4002",
   "metadata": {},
   "outputs": [
    {
     "data": {
      "text/plain": [
       "[]"
      ]
     },
     "execution_count": 16,
     "metadata": {},
     "output_type": "execute_result"
    },
    {
     "data": {
      "image/png": "[encoded data removed]",
      "text/plain": [
       "<Figure size 1152x1152 with 3 Axes>"
      ]
     },
     "metadata": {
      "needs_background": "light"
     },
     "output_type": "display_data"
    }
   ],
   "source": [
    "ts=df_tmp.groupby([\"date_block_num\"])[\"item_cnt_day\"].sum()\n",
    "ts.astype('float')\n",
    "plt.figure(figsize=(16,16))\n",
    "plt.subplot(311)\n",
    "plt.title('Original')\n",
    "plt.xlabel('Time')\n",
    "plt.ylabel('Sales')\n",
    "plt.plot(ts)\n",
    "plt.subplot(312)\n",
    "plt.title('After De-trend')\n",
    "plt.xlabel('Time')\n",
    "plt.ylabel('Sales')\n",
    "\n",
    "new_ts=difference(ts)\n",
    "plt.plot(new_ts)\n",
    "plt.plot()\n",
    "\n",
    "plt.subplot(313)\n",
    "plt.title('After De-seasonalization')\n",
    "plt.xlabel('Time')\n",
    "plt.ylabel('Sales')\n",
    "new_ts=difference(ts,12)       # 季節性は12か月とおく\n",
    "plt.plot(new_ts)\n",
    "plt.plot()"
   ]
  },
  {
   "cell_type": "code",
   "execution_count": 17,
   "id": "2cbcbe0e-b8ea-4918-bc9c-f861e4590c42",
   "metadata": {},
   "outputs": [
    {
     "name": "stdout",
     "output_type": "stream",
     "text": [
      "Results of Dickey-Fuller Test:\n",
      "Test Statistic                 -3.270101\n",
      "p-value                         0.016269\n",
      "#Lags Used                      0.000000\n",
      "Number of Observations Used    21.000000\n",
      "Critical Value (1%)            -3.788386\n",
      "Critical Value (5%)            -3.013098\n",
      "Critical Value (10%)           -2.646397\n",
      "dtype: float64\n"
     ]
    }
   ],
   "source": [
    "test_stationarity(new_ts)"
   ]
  },
  {
   "cell_type": "code",
   "execution_count": 18,
   "id": "76b00fdf-c32e-4c7e-9180-a0bf92286e6d",
   "metadata": {},
   "outputs": [],
   "source": [
    "#转换后，DF检验的p值在5%以内。 因此，我们可以假设该系列的静止性。\n",
    "#通过使用我们之前定义的反变换函数，我们可以很容易地恢复到原始系列。\n",
    "#MA--系列中的下一个值是前n个值的平均值的函数\n",
    "#AR--下一个值的误差（平均值之间的差异）是前n个值的误差的函数 \n",
    "#ARMA--两者的混合物\n"
   ]
  },
  {
   "cell_type": "code",
   "execution_count": 19,
   "id": "198c6a82-22b4-425d-a5bc-dcbdd04416f9",
   "metadata": {},
   "outputs": [
    {
     "name": "stdout",
     "output_type": "stream",
     "text": [
      "aic: 472.99703 | order: (1, 1)\n"
     ]
    }
   ],
   "source": [
    "# aicで最適な順番を選ぶ \n",
    "# 最小のaic値が勝つ\n",
    "best_aic = np.inf \n",
    "best_order = None\n",
    "best_mdl = None\n",
    "\n",
    "rng = range(5)\n",
    "for i in rng:\n",
    "    for j in rng:\n",
    "        try:\n",
    "            tmp_mdl = smt.ARMA(new_ts.values, order=(i, j)).fit(method='mle', trend='nc')\n",
    "            tmp_aic = tmp_mdl.aic\n",
    "            if tmp_aic < best_aic:\n",
    "                best_aic = tmp_aic\n",
    "                best_order = (i, j)\n",
    "                best_mdl = tmp_mdl\n",
    "        except: continue\n",
    "\n",
    "\n",
    "print('aic: {:6.5f} | order: {}'.format(best_aic, best_order))"
   ]
  },
  {
   "cell_type": "code",
   "execution_count": 20,
   "id": "3d24e398-ba30-4d49-b1a2-d0699c804083",
   "metadata": {},
   "outputs": [
    {
     "data": {
      "text/html": [
       "<div>\n",
       "<style scoped>\n",
       "    .dataframe tbody tr th:only-of-type {\n",
       "        vertical-align: middle;\n",
       "    }\n",
       "\n",
       "    .dataframe tbody tr th {\n",
       "        vertical-align: top;\n",
       "    }\n",
       "\n",
       "    .dataframe thead th {\n",
       "        text-align: right;\n",
       "    }\n",
       "</style>\n",
       "<table border=\"1\" class=\"dataframe\">\n",
       "  <thead>\n",
       "    <tr style=\"text-align: right;\">\n",
       "      <th></th>\n",
       "      <th>index</th>\n",
       "      <th>item_cnt_day</th>\n",
       "    </tr>\n",
       "  </thead>\n",
       "  <tbody>\n",
       "    <tr>\n",
       "      <th>0</th>\n",
       "      <td>2013-01-01</td>\n",
       "      <td>131479.0</td>\n",
       "    </tr>\n",
       "    <tr>\n",
       "      <th>1</th>\n",
       "      <td>2013-02-01</td>\n",
       "      <td>128090.0</td>\n",
       "    </tr>\n",
       "    <tr>\n",
       "      <th>2</th>\n",
       "      <td>2013-03-01</td>\n",
       "      <td>147142.0</td>\n",
       "    </tr>\n",
       "    <tr>\n",
       "      <th>3</th>\n",
       "      <td>2013-04-01</td>\n",
       "      <td>107190.0</td>\n",
       "    </tr>\n",
       "    <tr>\n",
       "      <th>4</th>\n",
       "      <td>2013-05-01</td>\n",
       "      <td>106970.0</td>\n",
       "    </tr>\n",
       "  </tbody>\n",
       "</table>\n",
       "</div>"
      ],
      "text/plain": [
       "       index  item_cnt_day\n",
       "0 2013-01-01      131479.0\n",
       "1 2013-02-01      128090.0\n",
       "2 2013-03-01      147142.0\n",
       "3 2013-04-01      107190.0\n",
       "4 2013-05-01      106970.0"
      ]
     },
     "execution_count": 20,
     "metadata": {},
     "output_type": "execute_result"
    }
   ],
   "source": [
    "#将一个日期作为索引添加到时间序列中\n",
    "ts=df_tmp.groupby([\"date_block_num\"])[\"item_cnt_day\"].sum()\n",
    "ts.index=pd.date_range(start = '2013-01-01',end='2015-10-01', freq = 'MS')\n",
    "ts=ts.reset_index()\n",
    "ts.head()"
   ]
  },
  {
   "cell_type": "code",
   "execution_count": 21,
   "id": "9507c6fe-daa6-48b6-a880-7263a55b2258",
   "metadata": {
    "tags": []
   },
   "outputs": [],
   "source": [
    "from fbprophet import Prophet\n",
    "# prophetは以下の設定でpandas dfを必要とします。\n",
    "# ( date column named as DS and the value column as Y)"
   ]
  },
  {
   "cell_type": "code",
   "execution_count": 22,
   "id": "a752c5b2-95f8-44d8-8383-e074dec09220",
   "metadata": {
    "tags": []
   },
   "outputs": [
    {
     "data": {
      "text/plain": [
       "\"\\nts.columns=['ds','y']\\nmodel = Prophet(yearly_seasonality=True) #instantiate Prophet with only yearly seasonality as our data is monthly\\nmodel.fit(ts) #fit the model with your datafram\\n\""
      ]
     },
     "execution_count": 22,
     "metadata": {},
     "output_type": "execute_result"
    }
   ],
   "source": [
    "'''\n",
    "ts.columns=['ds','y']\n",
    "model = Prophet(yearly_seasonality=True) #instantiate Prophet with only yearly seasonality as our data is monthly\n",
    "model.fit(ts) #fit the model with your datafram\n",
    "'''"
   ]
  },
  {
   "cell_type": "code",
   "execution_count": 23,
   "id": "23a2747e-fa71-48d8-a78c-5cfb7ec91122",
   "metadata": {
    "collapsed": true,
    "jupyter": {
     "outputs_hidden": true
    },
    "tags": []
   },
   "outputs": [
    {
     "ename": "NameError",
     "evalue": "name 'model' is not defined",
     "output_type": "error",
     "traceback": [
      "\u001b[1;31m---------------------------------------------------------------------------\u001b[0m",
      "\u001b[1;31mNameError\u001b[0m                                 Traceback (most recent call last)",
      "\u001b[1;32m<ipython-input-23-44897fde17d3>\u001b[0m in \u001b[0;36m<module>\u001b[1;34m\u001b[0m\n\u001b[0;32m      1\u001b[0m \u001b[1;31m# predict for five months in the furure and MS - month start is the frequency\u001b[0m\u001b[1;33m\u001b[0m\u001b[1;33m\u001b[0m\u001b[1;33m\u001b[0m\u001b[0m\n\u001b[1;32m----> 2\u001b[1;33m \u001b[0mfuture\u001b[0m \u001b[1;33m=\u001b[0m \u001b[0mmodel\u001b[0m\u001b[1;33m.\u001b[0m\u001b[0mmake_future_dataframe\u001b[0m\u001b[1;33m(\u001b[0m\u001b[0mperiods\u001b[0m \u001b[1;33m=\u001b[0m \u001b[1;36m5\u001b[0m\u001b[1;33m,\u001b[0m \u001b[0mfreq\u001b[0m \u001b[1;33m=\u001b[0m \u001b[1;34m'MS'\u001b[0m\u001b[1;33m)\u001b[0m\u001b[1;33m\u001b[0m\u001b[1;33m\u001b[0m\u001b[0m\n\u001b[0m\u001b[0;32m      3\u001b[0m \u001b[1;31m# now lets make the forecasts\u001b[0m\u001b[1;33m\u001b[0m\u001b[1;33m\u001b[0m\u001b[1;33m\u001b[0m\u001b[0m\n\u001b[0;32m      4\u001b[0m \u001b[0mforecast\u001b[0m \u001b[1;33m=\u001b[0m \u001b[0mmodel\u001b[0m\u001b[1;33m.\u001b[0m\u001b[0mpredict\u001b[0m\u001b[1;33m(\u001b[0m\u001b[0mfuture\u001b[0m\u001b[1;33m)\u001b[0m\u001b[1;33m\u001b[0m\u001b[1;33m\u001b[0m\u001b[0m\n\u001b[0;32m      5\u001b[0m \u001b[0mforecast\u001b[0m\u001b[1;33m[\u001b[0m\u001b[1;33m[\u001b[0m\u001b[1;34m'ds'\u001b[0m\u001b[1;33m,\u001b[0m \u001b[1;34m'yhat'\u001b[0m\u001b[1;33m,\u001b[0m \u001b[1;34m'yhat_lower'\u001b[0m\u001b[1;33m,\u001b[0m \u001b[1;34m'yhat_upper'\u001b[0m\u001b[1;33m]\u001b[0m\u001b[1;33m]\u001b[0m\u001b[1;33m.\u001b[0m\u001b[0mtail\u001b[0m\u001b[1;33m(\u001b[0m\u001b[1;33m)\u001b[0m\u001b[1;33m\u001b[0m\u001b[1;33m\u001b[0m\u001b[0m\n",
      "\u001b[1;31mNameError\u001b[0m: name 'model' is not defined"
     ]
    }
   ],
   "source": [
    "'''\n",
    "# predict for five months in the furure and MS - month start is the frequency\n",
    "future = model.make_future_dataframe(periods = 5, freq = 'MS')  \n",
    "# now lets make the forecasts\n",
    "forecast = model.predict(future)\n",
    "forecast[['ds', 'yhat', 'yhat_lower', 'yhat_upper']].tail()\n",
    "'''"
   ]
  },
  {
   "cell_type": "code",
   "execution_count": 25,
   "id": "ec1f1e40-ebc7-42c8-9171-3103adb0ea99",
   "metadata": {},
   "outputs": [
    {
     "data": {
      "text/plain": [
       "2013-01-01    131479.0\n",
       "2013-02-01    128090.0\n",
       "2013-03-01    147142.0\n",
       "2013-04-01    107190.0\n",
       "2013-05-01    106970.0\n",
       "Freq: MS, Name: item_cnt_day, dtype: float64"
      ]
     },
     "execution_count": 25,
     "metadata": {},
     "output_type": "execute_result"
    }
   ],
   "source": [
    "total_sales=df_tmp.groupby(['date_block_num'])[\"item_cnt_day\"].sum()\n",
    "dates=pd.date_range(start = '2013-01-01',end='2015-10-01', freq = 'MS')\n",
    "\n",
    "total_sales.index=dates\n",
    "total_sales.head()"
   ]
  },
  {
   "cell_type": "code",
   "execution_count": 31,
   "id": "3432c7b8-a315-4dff-9263-6810d00a0164",
   "metadata": {},
   "outputs": [
    {
     "data": {
      "text/html": [
       "<div>\n",
       "<style scoped>\n",
       "    .dataframe tbody tr th:only-of-type {\n",
       "        vertical-align: middle;\n",
       "    }\n",
       "\n",
       "    .dataframe tbody tr th {\n",
       "        vertical-align: top;\n",
       "    }\n",
       "\n",
       "    .dataframe thead tr th {\n",
       "        text-align: left;\n",
       "    }\n",
       "</style>\n",
       "<table border=\"1\" class=\"dataframe\">\n",
       "  <thead>\n",
       "    <tr>\n",
       "      <th>shop_id</th>\n",
       "      <th>index</th>\n",
       "      <th colspan=\"9\" halign=\"left\">0</th>\n",
       "      <th>...</th>\n",
       "      <th colspan=\"10\" halign=\"left\">59</th>\n",
       "    </tr>\n",
       "    <tr>\n",
       "      <th>item_id</th>\n",
       "      <th></th>\n",
       "      <th>30</th>\n",
       "      <th>31</th>\n",
       "      <th>32</th>\n",
       "      <th>33</th>\n",
       "      <th>35</th>\n",
       "      <th>36</th>\n",
       "      <th>40</th>\n",
       "      <th>42</th>\n",
       "      <th>43</th>\n",
       "      <th>...</th>\n",
       "      <th>22144</th>\n",
       "      <th>22145</th>\n",
       "      <th>22150</th>\n",
       "      <th>22151</th>\n",
       "      <th>22153</th>\n",
       "      <th>22154</th>\n",
       "      <th>22155</th>\n",
       "      <th>22162</th>\n",
       "      <th>22164</th>\n",
       "      <th>22167</th>\n",
       "    </tr>\n",
       "  </thead>\n",
       "  <tbody>\n",
       "    <tr>\n",
       "      <th>0</th>\n",
       "      <td>2013-01-01</td>\n",
       "      <td>0.0</td>\n",
       "      <td>0.0</td>\n",
       "      <td>6.0</td>\n",
       "      <td>3.0</td>\n",
       "      <td>1.0</td>\n",
       "      <td>0.0</td>\n",
       "      <td>0.0</td>\n",
       "      <td>0.0</td>\n",
       "      <td>1.0</td>\n",
       "      <td>...</td>\n",
       "      <td>0.0</td>\n",
       "      <td>0.0</td>\n",
       "      <td>0.0</td>\n",
       "      <td>2.0</td>\n",
       "      <td>0.0</td>\n",
       "      <td>1.0</td>\n",
       "      <td>0.0</td>\n",
       "      <td>0.0</td>\n",
       "      <td>0.0</td>\n",
       "      <td>0.0</td>\n",
       "    </tr>\n",
       "    <tr>\n",
       "      <th>1</th>\n",
       "      <td>2013-02-01</td>\n",
       "      <td>31.0</td>\n",
       "      <td>11.0</td>\n",
       "      <td>10.0</td>\n",
       "      <td>3.0</td>\n",
       "      <td>14.0</td>\n",
       "      <td>1.0</td>\n",
       "      <td>1.0</td>\n",
       "      <td>1.0</td>\n",
       "      <td>0.0</td>\n",
       "      <td>...</td>\n",
       "      <td>0.0</td>\n",
       "      <td>0.0</td>\n",
       "      <td>0.0</td>\n",
       "      <td>0.0</td>\n",
       "      <td>0.0</td>\n",
       "      <td>0.0</td>\n",
       "      <td>0.0</td>\n",
       "      <td>0.0</td>\n",
       "      <td>0.0</td>\n",
       "      <td>0.0</td>\n",
       "    </tr>\n",
       "    <tr>\n",
       "      <th>2</th>\n",
       "      <td>2013-03-01</td>\n",
       "      <td>0.0</td>\n",
       "      <td>0.0</td>\n",
       "      <td>0.0</td>\n",
       "      <td>0.0</td>\n",
       "      <td>0.0</td>\n",
       "      <td>0.0</td>\n",
       "      <td>0.0</td>\n",
       "      <td>0.0</td>\n",
       "      <td>0.0</td>\n",
       "      <td>...</td>\n",
       "      <td>0.0</td>\n",
       "      <td>0.0</td>\n",
       "      <td>0.0</td>\n",
       "      <td>1.0</td>\n",
       "      <td>0.0</td>\n",
       "      <td>0.0</td>\n",
       "      <td>0.0</td>\n",
       "      <td>0.0</td>\n",
       "      <td>0.0</td>\n",
       "      <td>0.0</td>\n",
       "    </tr>\n",
       "    <tr>\n",
       "      <th>3</th>\n",
       "      <td>2013-04-01</td>\n",
       "      <td>0.0</td>\n",
       "      <td>0.0</td>\n",
       "      <td>0.0</td>\n",
       "      <td>0.0</td>\n",
       "      <td>0.0</td>\n",
       "      <td>0.0</td>\n",
       "      <td>0.0</td>\n",
       "      <td>0.0</td>\n",
       "      <td>0.0</td>\n",
       "      <td>...</td>\n",
       "      <td>0.0</td>\n",
       "      <td>0.0</td>\n",
       "      <td>0.0</td>\n",
       "      <td>0.0</td>\n",
       "      <td>0.0</td>\n",
       "      <td>0.0</td>\n",
       "      <td>0.0</td>\n",
       "      <td>0.0</td>\n",
       "      <td>0.0</td>\n",
       "      <td>0.0</td>\n",
       "    </tr>\n",
       "    <tr>\n",
       "      <th>4</th>\n",
       "      <td>2013-05-01</td>\n",
       "      <td>0.0</td>\n",
       "      <td>0.0</td>\n",
       "      <td>0.0</td>\n",
       "      <td>0.0</td>\n",
       "      <td>0.0</td>\n",
       "      <td>0.0</td>\n",
       "      <td>0.0</td>\n",
       "      <td>0.0</td>\n",
       "      <td>0.0</td>\n",
       "      <td>...</td>\n",
       "      <td>0.0</td>\n",
       "      <td>0.0</td>\n",
       "      <td>0.0</td>\n",
       "      <td>0.0</td>\n",
       "      <td>0.0</td>\n",
       "      <td>0.0</td>\n",
       "      <td>0.0</td>\n",
       "      <td>0.0</td>\n",
       "      <td>0.0</td>\n",
       "      <td>0.0</td>\n",
       "    </tr>\n",
       "  </tbody>\n",
       "</table>\n",
       "<p>5 rows × 424125 columns</p>\n",
       "</div>"
      ],
      "text/plain": [
       "shop_id      index     0                                             ...  \\\n",
       "item_id               30    31    32   33    35   36   40   42   43  ...   \n",
       "0       2013-01-01   0.0   0.0   6.0  3.0   1.0  0.0  0.0  0.0  1.0  ...   \n",
       "1       2013-02-01  31.0  11.0  10.0  3.0  14.0  1.0  1.0  1.0  0.0  ...   \n",
       "2       2013-03-01   0.0   0.0   0.0  0.0   0.0  0.0  0.0  0.0  0.0  ...   \n",
       "3       2013-04-01   0.0   0.0   0.0  0.0   0.0  0.0  0.0  0.0  0.0  ...   \n",
       "4       2013-05-01   0.0   0.0   0.0  0.0   0.0  0.0  0.0  0.0  0.0  ...   \n",
       "\n",
       "shop_id    59                                                        \n",
       "item_id 22144 22145 22150 22151 22153 22154 22155 22162 22164 22167  \n",
       "0         0.0   0.0   0.0   2.0   0.0   1.0   0.0   0.0   0.0   0.0  \n",
       "1         0.0   0.0   0.0   0.0   0.0   0.0   0.0   0.0   0.0   0.0  \n",
       "2         0.0   0.0   0.0   1.0   0.0   0.0   0.0   0.0   0.0   0.0  \n",
       "3         0.0   0.0   0.0   0.0   0.0   0.0   0.0   0.0   0.0   0.0  \n",
       "4         0.0   0.0   0.0   0.0   0.0   0.0   0.0   0.0   0.0   0.0  \n",
       "\n",
       "[5 rows x 424125 columns]"
      ]
     },
     "execution_count": 31,
     "metadata": {},
     "output_type": "execute_result"
    }
   ],
   "source": [
    "# 月次の販売データからアイテム・ストアのユニークな組み合わせを取得する\n",
    "monthly_sales=df_tmp.groupby([\"shop_id\",\"item_id\",\"date_block_num\"])[\"item_cnt_day\"].sum()\n",
    "# arrange it conviniently to perform the hts \n",
    "monthly_sales=monthly_sales.unstack(level=-1).fillna(0)\n",
    "monthly_sales=monthly_sales.T\n",
    "dates=pd.date_range(start ='2013-01-01',end='2015-10-01'\n",
    "                    , freq = 'MS'\n",
    "                   )\n",
    "monthly_sales.index=dates\n",
    "monthly_sales=monthly_sales.reset_index()\n",
    "monthly_sales.head()"
   ]
  },
  {
   "cell_type": "code",
   "execution_count": null,
   "id": "25b8b051-3bee-4dec-bddf-96cd67ec84b0",
   "metadata": {},
   "outputs": [
    {
     "name": "stderr",
     "output_type": "stream",
     "text": [
      "INFO:fbprophet:Disabling weekly seasonality. Run prophet with weekly_seasonality=True to override this.\n",
      "INFO:fbprophet:Disabling daily seasonality. Run prophet with daily_seasonality=True to override this.\n"
     ]
    },
    {
     "ename": "KeyError",
     "evalue": "'metric_file'",
     "output_type": "error",
     "traceback": [
      "\u001b[1;31m---------------------------------------------------------------------------\u001b[0m",
      "\u001b[1;31mKeyError\u001b[0m                                  Traceback (most recent call last)",
      "\u001b[1;31mKeyError\u001b[0m: 'metric_file'"
     ]
    }
   ],
   "source": [
    "forecastsDict = {}\n",
    "for node in range(len(monthly_sales)):\n",
    "    # take the date-column and the col to be forecasted\n",
    "    nodeToForecast = pd.concat([monthly_sales.iloc[:,0], monthly_sales.iloc[:, node+1]], axis = 1)\n",
    "#     print(nodeToForecast.head())  # just to check\n",
    "# rename for prophet compatability\n",
    "    nodeToForecast = nodeToForecast.rename(columns = {nodeToForecast.columns[0] : 'ds'})\n",
    "    nodeToForecast = nodeToForecast.rename(columns = {nodeToForecast.columns[1] : 'y'})\n",
    "    growth = 'linear'\n",
    "    nodeToForecast.columns=['ds','y']\n",
    "    m = Prophet(growth, yearly_seasonality=True)\n",
    "    m.fit(nodeToForecast)\n",
    "    future = m.make_future_dataframe(periods = 1, freq = 'MS')\n",
    "    forecastsDict[node] = m.predict(future)"
   ]
  },
  {
   "cell_type": "code",
   "execution_count": null,
   "id": "9bc749f8-37a9-4a8e-a356-03f134474926",
   "metadata": {},
   "outputs": [],
   "source": []
  }
 ],
 "metadata": {
  "kernelspec": {
   "display_name": "Python 3",
   "language": "python",
   "name": "python3"
  },
  "language_info": {
   "codemirror_mode": {
    "name": "ipython",
    "version": 3
   },
   "file_extension": ".py",
   "mimetype": "text/x-python",
   "name": "python",
   "nbconvert_exporter": "python",
   "pygments_lexer": "ipython3",
   "version": "3.8.8"
  }
 },
 "nbformat": 4,
 "nbformat_minor": 5
}
