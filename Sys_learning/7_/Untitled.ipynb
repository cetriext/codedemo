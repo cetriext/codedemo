{
 "cells": [
  {
   "cell_type": "code",
   "execution_count": 1,
   "id": "9da1f50c-31d5-46e4-a7d4-6ee46b9772ef",
   "metadata": {},
   "outputs": [],
   "source": [
    "# 基本的なパッケージ\n",
    "import numpy as np # 線形代数\n",
    "import pandas as pd # データの加工, CSVファイルのI/O (e.g. pd.read_csv)\n",
    "import random as rd # 乱数の生成\n",
    "import datetime # manipulating date formats\n",
    "# 可視化用\n",
    "import matplotlib.pyplot as plt # basic plotting\n",
    "import seaborn as sns # for prettier plots\n",
    "\n",
    "\n",
    "# 時系列解析用\n",
    "from statsmodels.tsa.arima_model import ARIMA\n",
    "from statsmodels.tsa.statespace.sarimax import SARIMAX\n",
    "from pandas.plotting import autocorrelation_plot\n",
    "from statsmodels.tsa.stattools import adfuller, acf, pacf,arma_order_select_ic\n",
    "import statsmodels.formula.api as smf\n",
    "import statsmodels.tsa.api as smt\n",
    "import statsmodels.api as sm\n",
    "import scipy.stats as scs\n",
    "\n",
    "\n",
    "# 設定\n",
    "import warnings\n",
    "warnings.filterwarnings(\"ignore\")\n",
    "\n",
    "data = pd.read_csv(r\"C:\\Users\\xuhan\\Desktop\\我的坚果云\\Sys_learning\\7_\\competitive-data-science-predict-future-sales\\sales_train.csv\"\n",
    "                  )\n",
    "item_cat=pd.read_csv(r\"C:\\Users\\xuhan\\Desktop\\我的坚果云\\Sys_learning\\7_\\competitive-data-science-predict-future-sales\\item_categories.csv\")\n",
    "item=pd.read_csv(r\"C:\\Users\\xuhan\\Desktop\\我的坚果云\\Sys_learning\\7_\\competitive-data-science-predict-future-sales\\items.csv\")\n",
    "sub=pd.read_csv(r\"C:\\Users\\xuhan\\Desktop\\我的坚果云\\Sys_learning\\7_\\competitive-data-science-predict-future-sales\\sample_submission.csv\")\n",
    "shops=pd.read_csv(r\"C:\\Users\\xuhan\\Desktop\\我的坚果云\\Sys_learning\\7_\\competitive-data-science-predict-future-sales\\shops.csv\")\n",
    "test=pd.read_csv(r\"C:\\Users\\xuhan\\Desktop\\我的坚果云\\Sys_learning\\7_\\competitive-data-science-predict-future-sales\\test.csv\")"
   ]
  },
  {
   "cell_type": "code",
   "execution_count": 2,
   "id": "04705541-82c3-44cc-beb4-91d153118bbf",
   "metadata": {},
   "outputs": [],
   "source": [
    "# Separating the year from date column\n",
    "import datetime\n",
    "data['year'] = pd.DatetimeIndex(data['date']).year\n",
    "data['month'] = pd.DatetimeIndex(data['date'], dayfirst=True).month\n",
    "\n",
    "data['date'] = data['date'].apply(lambda x: datetime.datetime.strptime(x, \"%d.%m.%Y\"))"
   ]
  },
  {
   "cell_type": "code",
   "execution_count": 3,
   "id": "51ca338b-116d-4c62-baa1-71e4b9b34bb9",
   "metadata": {},
   "outputs": [],
   "source": [
    "ts = data.groupby(['date_block_num'])['item_cnt_day'].sum()"
   ]
  },
  {
   "cell_type": "code",
   "execution_count": 4,
   "id": "5b254783-7076-400c-8d50-2cc73e92bf9e",
   "metadata": {},
   "outputs": [],
   "source": [
    "data['revenue'] = data['item_price'] * data['item_cnt_day']\n",
    "month_revenue = data.groupby(['date_block_num'])['revenue'].sum()"
   ]
  },
  {
   "cell_type": "code",
   "execution_count": 10,
   "id": "5ee5686f-386e-4971-9734-b684d8b7117e",
   "metadata": {},
   "outputs": [
    {
     "data": {
      "image/png": "[encoded data removed]",
      "text/plain": [
       "<Figure size 432x288 with 1 Axes>"
      ]
     },
     "metadata": {
      "needs_background": "light"
     },
     "output_type": "display_data"
    }
   ],
   "source": [
    "#只是画出图像，但是不知道这个图是怎么画的\n",
    "\n",
    "fig = plt.figure()\n",
    "ax = fig.add_axes([10,0,1,1])#分别为图像的左，底，宽，高\n",
    "# ax.set_xticks(np.arange(2013, 2016, 1))\n",
    "\n",
    "from matplotlib.ticker import FuncFormatter\n",
    "def millions(x, pos):\n",
    "    'The two args are the value and tick position'\n",
    "    return '%1.1fM' % (x * 1e-6)\n",
    "formatter = FuncFormatter(millions)\n",
    "ax.yaxis.set_major_formatter(formatter)\n",
    " \n",
    "ax.plot(data['date_block_num'], data['revenue'])\n",
    "plt.show()"
   ]
  },
  {
   "cell_type": "code",
   "execution_count": 13,
   "id": "586f60a6-5a99-46a6-a8f0-1f672dea2686",
   "metadata": {
    "collapsed": true,
    "jupyter": {
     "outputs_hidden": true
    },
    "tags": []
   },
   "outputs": [
    {
     "data": {
      "text/html": [
       "<div>\n",
       "<style scoped>\n",
       "    .dataframe tbody tr th:only-of-type {\n",
       "        vertical-align: middle;\n",
       "    }\n",
       "\n",
       "    .dataframe tbody tr th {\n",
       "        vertical-align: top;\n",
       "    }\n",
       "\n",
       "    .dataframe thead th {\n",
       "        text-align: right;\n",
       "    }\n",
       "</style>\n",
       "<table border=\"1\" class=\"dataframe\">\n",
       "  <thead>\n",
       "    <tr style=\"text-align: right;\">\n",
       "      <th></th>\n",
       "      <th>year</th>\n",
       "      <th>month</th>\n",
       "      <th>revenue</th>\n",
       "    </tr>\n",
       "  </thead>\n",
       "  <tbody>\n",
       "    <tr>\n",
       "      <th>0</th>\n",
       "      <td>2013</td>\n",
       "      <td>1</td>\n",
       "      <td>9.194709e+07</td>\n",
       "    </tr>\n",
       "    <tr>\n",
       "      <th>1</th>\n",
       "      <td>2013</td>\n",
       "      <td>2</td>\n",
       "      <td>9.066571e+07</td>\n",
       "    </tr>\n",
       "    <tr>\n",
       "      <th>2</th>\n",
       "      <td>2013</td>\n",
       "      <td>3</td>\n",
       "      <td>1.049327e+08</td>\n",
       "    </tr>\n",
       "    <tr>\n",
       "      <th>3</th>\n",
       "      <td>2013</td>\n",
       "      <td>4</td>\n",
       "      <td>6.915429e+07</td>\n",
       "    </tr>\n",
       "    <tr>\n",
       "      <th>4</th>\n",
       "      <td>2013</td>\n",
       "      <td>5</td>\n",
       "      <td>6.506531e+07</td>\n",
       "    </tr>\n",
       "    <tr>\n",
       "      <th>5</th>\n",
       "      <td>2013</td>\n",
       "      <td>6</td>\n",
       "      <td>7.955041e+07</td>\n",
       "    </tr>\n",
       "    <tr>\n",
       "      <th>6</th>\n",
       "      <td>2013</td>\n",
       "      <td>7</td>\n",
       "      <td>6.935060e+07</td>\n",
       "    </tr>\n",
       "    <tr>\n",
       "      <th>7</th>\n",
       "      <td>2013</td>\n",
       "      <td>8</td>\n",
       "      <td>7.429797e+07</td>\n",
       "    </tr>\n",
       "    <tr>\n",
       "      <th>8</th>\n",
       "      <td>2013</td>\n",
       "      <td>9</td>\n",
       "      <td>1.190819e+08</td>\n",
       "    </tr>\n",
       "    <tr>\n",
       "      <th>9</th>\n",
       "      <td>2013</td>\n",
       "      <td>10</td>\n",
       "      <td>1.072416e+08</td>\n",
       "    </tr>\n",
       "    <tr>\n",
       "      <th>10</th>\n",
       "      <td>2013</td>\n",
       "      <td>11</td>\n",
       "      <td>1.386654e+08</td>\n",
       "    </tr>\n",
       "    <tr>\n",
       "      <th>11</th>\n",
       "      <td>2013</td>\n",
       "      <td>12</td>\n",
       "      <td>2.075717e+08</td>\n",
       "    </tr>\n",
       "    <tr>\n",
       "      <th>12</th>\n",
       "      <td>2014</td>\n",
       "      <td>1</td>\n",
       "      <td>9.822602e+07</td>\n",
       "    </tr>\n",
       "    <tr>\n",
       "      <th>13</th>\n",
       "      <td>2014</td>\n",
       "      <td>2</td>\n",
       "      <td>1.074311e+08</td>\n",
       "    </tr>\n",
       "    <tr>\n",
       "      <th>14</th>\n",
       "      <td>2014</td>\n",
       "      <td>3</td>\n",
       "      <td>1.091154e+08</td>\n",
       "    </tr>\n",
       "    <tr>\n",
       "      <th>15</th>\n",
       "      <td>2014</td>\n",
       "      <td>4</td>\n",
       "      <td>8.065176e+07</td>\n",
       "    </tr>\n",
       "    <tr>\n",
       "      <th>16</th>\n",
       "      <td>2014</td>\n",
       "      <td>5</td>\n",
       "      <td>9.128173e+07</td>\n",
       "    </tr>\n",
       "    <tr>\n",
       "      <th>17</th>\n",
       "      <td>2014</td>\n",
       "      <td>6</td>\n",
       "      <td>8.266854e+07</td>\n",
       "    </tr>\n",
       "    <tr>\n",
       "      <th>18</th>\n",
       "      <td>2014</td>\n",
       "      <td>7</td>\n",
       "      <td>7.648792e+07</td>\n",
       "    </tr>\n",
       "    <tr>\n",
       "      <th>19</th>\n",
       "      <td>2014</td>\n",
       "      <td>8</td>\n",
       "      <td>8.960409e+07</td>\n",
       "    </tr>\n",
       "  </tbody>\n",
       "</table>\n",
       "</div>"
      ],
      "text/plain": [
       "    year  month       revenue\n",
       "0   2013      1  9.194709e+07\n",
       "1   2013      2  9.066571e+07\n",
       "2   2013      3  1.049327e+08\n",
       "3   2013      4  6.915429e+07\n",
       "4   2013      5  6.506531e+07\n",
       "5   2013      6  7.955041e+07\n",
       "6   2013      7  6.935060e+07\n",
       "7   2013      8  7.429797e+07\n",
       "8   2013      9  1.190819e+08\n",
       "9   2013     10  1.072416e+08\n",
       "10  2013     11  1.386654e+08\n",
       "11  2013     12  2.075717e+08\n",
       "12  2014      1  9.822602e+07\n",
       "13  2014      2  1.074311e+08\n",
       "14  2014      3  1.091154e+08\n",
       "15  2014      4  8.065176e+07\n",
       "16  2014      5  9.128173e+07\n",
       "17  2014      6  8.266854e+07\n",
       "18  2014      7  7.648792e+07\n",
       "19  2014      8  8.960409e+07"
      ]
     },
     "execution_count": 13,
     "metadata": {},
     "output_type": "execute_result"
    }
   ],
   "source": [
    "total_revenue_per_month = data.groupby(['year', 'month'])['revenue'].sum().reset_index()\n",
    "#total_revenue.apply(lambda x: '%.5f' % x, axis=1)\n",
    "total_revenue_per_month.head(20)"
   ]
  },
  {
   "cell_type": "code",
   "execution_count": 14,
   "id": "f4a55c8e-062b-4b15-b51c-05f3ae9da863",
   "metadata": {},
   "outputs": [],
   "source": [
    "total_revenue_per_year = data.groupby(['year'])['revenue'].sum().reset_index()"
   ]
  },
  {
   "cell_type": "code",
   "execution_count": 15,
   "id": "128dfd90-e45d-439f-8e5d-2a37443f899e",
   "metadata": {},
   "outputs": [
    {
     "data": {
      "image/png": "[encoded data removed]",
      "text/plain": [
       "<Figure size 432x288 with 1 Axes>"
      ]
     },
     "metadata": {
      "needs_background": "light"
     },
     "output_type": "display_data"
    }
   ],
   "source": [
    "fig = plt.figure()\n",
    "ax = fig.add_axes([10,0,1,1])\n",
    "ax.set_xticks(np.arange(2013, 2016, 1))\n",
    "\n",
    "from matplotlib.ticker import FuncFormatter\n",
    "def millions(x, pos):\n",
    "    'The two args are the value and tick position'\n",
    "    return '%1.1fM' % (x * 1e-6)\n",
    "formatter = FuncFormatter(millions)\n",
    "ax.yaxis.set_major_formatter(formatter)\n",
    " \n",
    "ax.bar(total_revenue_per_month['year'],total_revenue_per_month['revenue'])\n",
    "plt.show()"
   ]
  },
  {
   "cell_type": "code",
   "execution_count": 16,
   "id": "a5dd07c0-94c7-47dc-98d1-d96da0182a88",
   "metadata": {},
   "outputs": [],
   "source": [
    "ax.set_xticks(np.arange(2013, 2016, 1))\n",
    "\n",
    "def millions(x, pos):\n",
    "    'The two args are the value and tick position'\n",
    "    return '%1.1fM' % (x * 1e-6)\n",
    "formatter = FuncFormatter(millions)\n",
    "ax.yaxis.set_major_formatter(formatter)\n",
    "\n",
    "ax.scatter(total_revenue_per_month['year'],total_revenue_per_month['revenue'])\n",
    "ax.plot(total_revenue_per_month['year'],total_revenue_per_month['revenue'])\n",
    "plt.show()"
   ]
  },
  {
   "cell_type": "code",
   "execution_count": 17,
   "id": "5722b4d5-4a20-4ea0-a921-d99264976a4c",
   "metadata": {},
   "outputs": [
    {
     "data": {
      "text/plain": [
       "[<matplotlib.lines.Line2D at 0x205127b6490>]"
      ]
     },
     "execution_count": 17,
     "metadata": {},
     "output_type": "execute_result"
    },
    {
     "data": {
      "image/png": "[encoded data removed]",
      "text/plain": [
       "<Figure size 432x288 with 1 Axes>"
      ]
     },
     "metadata": {
      "needs_background": "light"
     },
     "output_type": "display_data"
    }
   ],
   "source": [
    "def millions(x, pos):\n",
    "    'The two args are the value and tick position'\n",
    "    return '%1.1fM' % (x * 1e-6)\n",
    "formatter = FuncFormatter(millions)\n",
    "ax.yaxis.set_major_formatter(formatter)\n",
    "\n",
    "total_revenue_per_year['year'] = total_revenue_per_year['year'].astype(str)\n",
    "plt.plot(total_revenue_per_year['year'], total_revenue_per_year['revenue'])"
   ]
  },
  {
   "cell_type": "code",
   "execution_count": 18,
   "id": "7cca6c5f-a035-4d9e-8a71-54f412aabee1",
   "metadata": {},
   "outputs": [
    {
     "data": {
      "text/plain": [
       "[<matplotlib.lines.Line2D at 0x205127fdc70>]"
      ]
     },
     "execution_count": 18,
     "metadata": {},
     "output_type": "execute_result"
    },
    {
     "data": {
      "image/png": "[encoded data removed]",
      "text/plain": [
       "<Figure size 432x288 with 1 Axes>"
      ]
     },
     "metadata": {
      "needs_background": "light"
     },
     "output_type": "display_data"
    }
   ],
   "source": [
    "plt.locator_params(integer=True)\n",
    "total_revenue_per_year['year'] = total_revenue_per_year['year'].astype(int)\n",
    "plt.plot(total_revenue_per_year['year'], total_revenue_per_year['revenue'])"
   ]
  },
  {
   "cell_type": "code",
   "execution_count": 19,
   "id": "f23ee8f4-e68e-41a6-9f94-82321417ad15",
   "metadata": {},
   "outputs": [],
   "source": [
    "#ARIMA model Implementation\n",
    "from statsmodels.tsa.arima_model import ARIMA\n",
    "\n",
    "model = ARIMA(data['revenue'], order = (4, 1, 0))\n",
    "model.fit()\n",
    "predictions = model.fit().predict()"
   ]
  },
  {
   "cell_type": "code",
   "execution_count": null,
   "id": "5043fc94-8b2e-4678-9bb2-62c19ba3c18c",
   "metadata": {},
   "outputs": [],
   "source": []
  }
 ],
 "metadata": {
  "kernelspec": {
   "display_name": "Python 3",
   "language": "python",
   "name": "python3"
  },
  "language_info": {
   "codemirror_mode": {
    "name": "ipython",
    "version": 3
   },
   "file_extension": ".py",
   "mimetype": "text/x-python",
   "name": "python",
   "nbconvert_exporter": "python",
   "pygments_lexer": "ipython3",
   "version": "3.8.8"
  }
 },
 "nbformat": 4,
 "nbformat_minor": 5
}
