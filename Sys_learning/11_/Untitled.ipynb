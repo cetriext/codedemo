{
 "cells": [
  {
   "cell_type": "code",
   "execution_count": 12,
   "id": "c5e43a11-3038-4101-aa40-a8f03006ba72",
   "metadata": {},
   "outputs": [],
   "source": [
    "import re"
   ]
  },
  {
   "cell_type": "code",
   "execution_count": 13,
   "id": "0a0f7152-0d79-4c90-98d9-de316d120ac7",
   "metadata": {},
   "outputs": [],
   "source": [
    "a = '罗志祥202004月真的很倒霉，替蒋凡d挡了36489点伤害'"
   ]
  },
  {
   "cell_type": "code",
   "execution_count": 64,
   "id": "1e4f9b53-aac8-409c-9723-e1c90cb71ae2",
   "metadata": {},
   "outputs": [],
   "source": [
    "ret = re.sub(r'([0-9]{5,})+', '*', a)"
   ]
  },
  {
   "cell_type": "code",
   "execution_count": 65,
   "id": "2fe303a5-093e-42bd-8455-a5990bf5480a",
   "metadata": {},
   "outputs": [
    {
     "name": "stdout",
     "output_type": "stream",
     "text": [
      "罗志祥*月真的很倒霉，替蒋凡d挡了*点伤害\n"
     ]
    }
   ],
   "source": [
    "print(ret)"
   ]
  },
  {
   "cell_type": "code",
   "execution_count": null,
   "id": "465ff6be-5ec0-4e76-9f58-b69c4e3428e1",
   "metadata": {},
   "outputs": [],
   "source": []
  }
 ],
 "metadata": {
  "kernelspec": {
   "display_name": "Python 3",
   "language": "python",
   "name": "python3"
  },
  "language_info": {
   "codemirror_mode": {
    "name": "ipython",
    "version": 3
   },
   "file_extension": ".py",
   "mimetype": "text/x-python",
   "name": "python",
   "nbconvert_exporter": "python",
   "pygments_lexer": "ipython3",
   "version": "3.8.10"
  }
 },
 "nbformat": 4,
 "nbformat_minor": 5
}
