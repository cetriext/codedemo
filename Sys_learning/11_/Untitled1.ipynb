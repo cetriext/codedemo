{
 "cells": [
  {
   "cell_type": "code",
   "execution_count": 1,
   "id": "1af21805-dd0a-49cf-8a39-06b8bcab6445",
   "metadata": {},
   "outputs": [],
   "source": [
    "import os\n",
    "import jieba\n",
    "import warnings\n",
    "warnings.filterwarnings('ignore')\n",
    "\n",
    "novel_path = r'C:\\Users\\xuhan\\OneDrive\\桌面\\novels-master\\novels-master\\金庸小说精校版\\\\'\n",
    "\n",
    "data_path = r'C:\\Users\\xuhan\\OneDrive\\桌面\\novels-master\\novels-master\\\\'"
   ]
  },
  {
   "cell_type": "code",
   "execution_count": 2,
   "id": "2f33ed3c-ecb1-4306-ae66-b2a65367aa6d",
   "metadata": {},
   "outputs": [
    {
     "name": "stdout",
     "output_type": "stream",
     "text": [
      "1903\n",
      "['乘势', '乘机', '乘胜', '乘虚', '乘隙', '九', '也', '也好', '也就是说', '也是', '也罢', '了', '了解', '争取', '二', '二来', '二话不说', '二话没说', '于', '于是']\n"
     ]
    }
   ],
   "source": [
    "stop_words_file = open(data_path + \"\\stop_words.txt\", 'r')\n",
    "stop_words = list()\n",
    "for line in stop_words_file.readlines():\n",
    "    line = line.strip()   # 去掉每行末尾的换行符\n",
    "    stop_words.append(line)\n",
    "stop_words_file.close()\n",
    "print(len(stop_words))\n",
    "print(stop_words[300:320])"
   ]
  },
  {
   "cell_type": "code",
   "execution_count": 3,
   "id": "fac139a3-3fc7-4ea1-9b43-56fd29140178",
   "metadata": {},
   "outputs": [
    {
     "name": "stderr",
     "output_type": "stream",
     "text": [
      "Building prefix dict from the default dictionary ...\n",
      "Loading model from cache C:\\Users\\xuhan\\AppData\\Local\\Temp\\jieba.cache\n",
      "Loading model cost 0.538 seconds.\n",
      "Prefix dict has been built successfully.\n"
     ]
    },
    {
     "name": "stdout",
     "output_type": "stream",
     "text": [
      "1237\n"
     ]
    }
   ],
   "source": [
    "people_names_file = open(data_path + \"金庸小说全人物.txt\", 'r')\n",
    "people_names = list()\n",
    "for line in people_names_file.readlines():\n",
    "    line = line.strip()   # 去掉每行末尾的换行符\n",
    "    jieba.add_word(line)\n",
    "    people_names.append(line)\n",
    "stop_words_file.close()\n",
    "print(len(people_names))"
   ]
  },
  {
   "cell_type": "code",
   "execution_count": 4,
   "id": "399fcb67-5227-40a3-b82f-58fea7746bab",
   "metadata": {},
   "outputs": [
    {
     "name": "stdout",
     "output_type": "stream",
     "text": [
      "389\n"
     ]
    }
   ],
   "source": [
    "wugong_names_file = open(data_path + \"金庸小说全武功.txt\", 'r')\n",
    "wugong_names = list()\n",
    "for line in wugong_names_file.readlines():\n",
    "    line = line.strip()   # 去掉每行末尾的换行符\n",
    "    jieba.add_word(line)\n",
    "    wugong_names.append(line)\n",
    "stop_words_file.close()\n",
    "print(len(wugong_names))"
   ]
  },
  {
   "cell_type": "code",
   "execution_count": 5,
   "id": "da26ae54",
   "metadata": {},
   "outputs": [
    {
     "name": "stdout",
     "output_type": "stream",
     "text": [
      "97\n"
     ]
    }
   ],
   "source": [
    "menpai_names_file = open(data_path + \"金庸小说全门派.txt\", 'r')\n",
    "menpai_names = list()\n",
    "for line in menpai_names_file.readlines():\n",
    "    line = line.strip()   # 去掉每行末尾的换行符\n",
    "    jieba.add_word(line)\n",
    "    menpai_names.append(line)\n",
    "stop_words_file.close()\n",
    "print(len(menpai_names))"
   ]
  },
  {
   "cell_type": "code",
   "execution_count": 6,
   "id": "eb254012",
   "metadata": {},
   "outputs": [
    {
     "data": {
      "text/plain": [
       "['书剑恩仇录.txt',\n",
       " '侠客行.txt',\n",
       " '倚天屠龙记.txt',\n",
       " '天龙八部.txt',\n",
       " '射雕英雄传.txt',\n",
       " '白马啸西风.txt',\n",
       " '碧血剑.txt',\n",
       " '神雕侠侣.txt',\n",
       " '笑傲江湖.txt',\n",
       " '越女剑.txt',\n",
       " '连城诀.txt',\n",
       " '雪山飞狐.txt',\n",
       " '飞狐外传.txt',\n",
       " '鸳鸯刀.txt',\n",
       " '鹿鼎记.txt']"
      ]
     },
     "execution_count": 6,
     "metadata": {},
     "output_type": "execute_result"
    }
   ],
   "source": [
    "novel_names = list(os.listdir(novel_path))\n",
    "novel_names"
   ]
  },
  {
   "cell_type": "code",
   "execution_count": 7,
   "id": "153c23c8",
   "metadata": {
    "scrolled": true
   },
   "outputs": [
    {
     "name": "stdout",
     "output_type": "stream",
     "text": [
      "书剑恩仇录.txt\n",
      "第一回 古道腾驹惊白发 危峦击剑识青翎\n",
      "\n",
      "第一回 古道腾驹惊白发 危峦击剑识青翎\n",
      "侠客行.txt\n",
      "第一回 烧饼馅子\n",
      "\n",
      "第一回 烧饼馅子\n",
      "倚天屠龙记.txt\n",
      "一 天涯思君不可忘\n",
      "\n",
      "一 天涯思君不可忘\n",
      "天龙八部.txt\n",
      "释名\n",
      "\n",
      "释名\n",
      "射雕英雄传.txt\n",
      "第一回 风雪惊变\n",
      "\n",
      "第一回 风雪惊变\n",
      "白马啸西风.txt\n",
      "白马啸西风\n",
      "\n",
      "白马啸西风\n",
      "碧血剑.txt\n",
      "第一回 危邦行蜀道 乱世坏长城\n",
      "\n",
      "第一回 危邦行蜀道 乱世坏长城\n",
      "神雕侠侣.txt\n",
      "第一回 风月无情\n",
      "\n",
      "第一回 风月无情\n",
      "笑傲江湖.txt\n",
      "一 灭门\n",
      "\n",
      "一 灭门\n",
      "越女剑.txt\n",
      "越女剑\n",
      "\n",
      "越女剑\n",
      "连城诀.txt\n",
      "一 乡下人进城\n",
      "\n",
      "一 乡下人进城\n",
      "雪山飞狐.txt\n",
      "一\n",
      "\n",
      "一\n",
      "飞狐外传.txt\n",
      "第一章 大雨商家堡\n",
      "\n",
      "第一章 大雨商家堡\n",
      "鸳鸯刀.txt\n",
      "\n",
      "\n",
      "\n",
      "鹿鼎记.txt\n",
      "第一回 纵横钩党清流祸 峭茜风期月旦评\n",
      "\n",
      "第一回 纵横钩党清流祸 峭茜风期月旦评\n"
     ]
    }
   ],
   "source": [
    "for novel_name in novel_names:\n",
    "    novel = open(novel_path + novel_name, 'r', encoding='utf-8-sig')\n",
    "    print(novel_name)\n",
    "    line = novel.readline()\n",
    "    print(line)\n",
    "    print(line.strip())"
   ]
  },
  {
   "cell_type": "code",
   "execution_count": 8,
   "id": "b029c8f0",
   "metadata": {},
   "outputs": [
    {
     "name": "stdout",
     "output_type": "stream",
     "text": [
      "Waiting for 书剑恩仇录.txt...\n",
      "书剑恩仇录.txt finished，with 3561 Row\n",
      "----------------------------------------\n",
      "Waiting for 侠客行.txt...\n",
      "侠客行.txt finished，with 3514 Row\n",
      "----------------------------------------\n",
      "Waiting for 倚天屠龙记.txt...\n",
      "倚天屠龙记.txt finished，with 7919 Row\n",
      "----------------------------------------\n",
      "Waiting for 天龙八部.txt...\n",
      "天龙八部.txt finished，with 10948 Row\n",
      "----------------------------------------\n",
      "Waiting for 射雕英雄传.txt...\n",
      "射雕英雄传.txt finished，with 7131 Row\n",
      "----------------------------------------\n",
      "Waiting for 白马啸西风.txt...\n",
      "白马啸西风.txt finished，with 597 Row\n",
      "----------------------------------------\n",
      "Waiting for 碧血剑.txt...\n",
      "碧血剑.txt finished，with 3786 Row\n",
      "----------------------------------------\n",
      "Waiting for 神雕侠侣.txt...\n",
      "神雕侠侣.txt finished，with 6999 Row\n",
      "----------------------------------------\n",
      "Waiting for 笑傲江湖.txt...\n",
      "笑傲江湖.txt finished，with 8551 Row\n",
      "----------------------------------------\n",
      "Waiting for 越女剑.txt...\n",
      "越女剑.txt finished，with 197 Row\n",
      "----------------------------------------\n",
      "Waiting for 连城诀.txt...\n",
      "连城诀.txt finished，with 2207 Row\n",
      "----------------------------------------\n",
      "Waiting for 雪山飞狐.txt...\n",
      "雪山飞狐.txt finished，with 1097 Row\n",
      "----------------------------------------\n",
      "Waiting for 飞狐外传.txt...\n",
      "飞狐外传.txt finished，with 3777 Row\n",
      "----------------------------------------\n",
      "Waiting for 鸳鸯刀.txt...\n",
      "鸳鸯刀.txt finished，with 213 Row\n",
      "----------------------------------------\n",
      "Waiting for 鹿鼎记.txt...\n",
      "鹿鼎记.txt finished，with 11159 Row\n",
      "----------------------------------------\n",
      "----------------------------------------\n",
      "----------------------------------------\n",
      "All finished，with 71656 Row\n"
     ]
    }
   ],
   "source": [
    "seg_novel = []\n",
    "for novel_name in novel_names:\n",
    "    novel = open(novel_path + novel_name, 'r', encoding='utf-8-sig')\n",
    "    print(\"Waiting for {}...\".format(novel_name))\n",
    "    line = novel.readline()#取出一行\n",
    "    forward_rows = len(seg_novel)\n",
    "    while line:\n",
    "        line_1 = line.strip()#去除收尾空格\n",
    "        outstr = ''#初始化词向量\n",
    "        line_seg = jieba.cut(line_1, cut_all=False)#分词之后的结果\n",
    "        for word in line_seg:  \n",
    "            if word not in stop_words:\n",
    "                if word != '\\t':\n",
    "                    if word[:2] in people_names:\n",
    "                        word = word[:2]\n",
    "                    outstr += word \n",
    "                    outstr += \" \"\n",
    "        if len(str(outstr.strip())) != 0:\n",
    "            \n",
    "            seg_novel.append(str(outstr.strip()).split())\n",
    "        line = novel.readline()\n",
    "    print(\"{} finished，with {} Row\".format(novel_name, (len(seg_novel) - forward_rows)))\n",
    "    print(\"-\" * 40)\n",
    "print(\"-\" * 40)\n",
    "print(\"-\" * 40)\n",
    "print(\"All finished，with {} Row\".format(len(seg_novel)))"
   ]
  },
  {
   "cell_type": "code",
   "execution_count": 31,
   "id": "900e18e0",
   "metadata": {},
   "outputs": [
    {
     "data": {
      "text/plain": [
       "['第一回', '古道', '腾驹', '惊', '白发', '危峦', '击剑', '识青翎']"
      ]
     },
     "execution_count": 31,
     "metadata": {},
     "output_type": "execute_result"
    }
   ],
   "source": [
    "seg_novel[0]"
   ]
  },
  {
   "cell_type": "code",
   "execution_count": 38,
   "id": "eb7b5ef3",
   "metadata": {},
   "outputs": [
    {
     "data": {
      "text/plain": [
       "71656"
      ]
     },
     "execution_count": 38,
     "metadata": {},
     "output_type": "execute_result"
    }
   ],
   "source": [
    "len(seg_novel)"
   ]
  },
  {
   "cell_type": "code",
   "execution_count": 9,
   "id": "a7c91959",
   "metadata": {},
   "outputs": [],
   "source": [
    "segm_novel = []\n",
    "for i in range(len(seg_novel)):\n",
    "    k = seg_novel[i]\n",
    "    for j in k:\n",
    "        segm_novel.append(j)"
   ]
  },
  {
   "cell_type": "code",
   "execution_count": 10,
   "id": "989063ba",
   "metadata": {},
   "outputs": [],
   "source": [
    "import numpy as np\n",
    "import pandas as pd"
   ]
  },
  {
   "cell_type": "code",
   "execution_count": 11,
   "id": "76d8fb82",
   "metadata": {},
   "outputs": [],
   "source": [
    "a = np.array(segm_novel)\n",
    "b = pd.DataFrame(a)"
   ]
  },
  {
   "cell_type": "code",
   "execution_count": 12,
   "id": "8dd74095",
   "metadata": {},
   "outputs": [],
   "source": [
    "from collections import Counter"
   ]
  },
  {
   "cell_type": "code",
   "execution_count": 13,
   "id": "3e5ca60c",
   "metadata": {},
   "outputs": [
    {
     "name": "stdout",
     "output_type": "stream",
     "text": [
      "[('中', 14377), ('听', 12238), ('韦小宝', 9908), ('武功', 6744), ('想', 6590), ('郭靖', 6568), ('一声', 6520), ('杨过', 6167), ('师父', 6071), ('笑', 5821), ('瞧', 5706), ('心中', 5687), ('不知', 5541), ('黄蓉', 5195), ('走', 5167), ('令狐冲', 5052), ('心想', 5033), ('杀', 4796), ('张无忌', 4786), ('事', 4497), ('两人', 4476), ('做', 4372), ('倒', 4240), ('死', 4163), ('时', 3994), ('请', 3962), ('众人', 3943), ('弟子', 3889), ('只见', 3833), ('二人', 3809), ('之中', 3783), ('段誉', 3524), ('兄弟', 3427), ('便是', 3197), ('站', 3192), ('吃', 3138), ('胡斐', 3126), ('见到', 3065), ('身子', 3045), ('话', 3019), ('脸上', 3012), ('问道', 2990), ('姑娘', 2952), ('今日', 2914), ('身上', 2855), ('忙', 2823), ('跟着', 2794), ('问', 2770), ('功夫', 2714), ('左手', 2709)]\n"
     ]
    }
   ],
   "source": [
    "print(Counter(a).most_common(50))"
   ]
  },
  {
   "cell_type": "code",
   "execution_count": 18,
   "id": "5b4ebb1f",
   "metadata": {},
   "outputs": [],
   "source": [
    "b = Counter(a).most_common(len(a))"
   ]
  },
  {
   "cell_type": "code",
   "execution_count": 26,
   "id": "ade43c67",
   "metadata": {
    "scrolled": false
   },
   "outputs": [],
   "source": [
    "top_50 = b[:50]\n",
    "latter_50 = b[-50:]"
   ]
  },
  {
   "cell_type": "code",
   "execution_count": 27,
   "id": "28f75f84",
   "metadata": {},
   "outputs": [
    {
     "name": "stdout",
     "output_type": "stream",
     "text": [
      "[('中', 14377), ('听', 12238), ('韦小宝', 9908), ('武功', 6744), ('想', 6590), ('郭靖', 6568), ('一声', 6520), ('杨过', 6167), ('师父', 6071), ('笑', 5821), ('瞧', 5706), ('心中', 5687), ('不知', 5541), ('黄蓉', 5195), ('走', 5167), ('令狐冲', 5052), ('心想', 5033), ('杀', 4796), ('张无忌', 4786), ('事', 4497), ('两人', 4476), ('做', 4372), ('倒', 4240), ('死', 4163), ('时', 3994), ('请', 3962), ('众人', 3943), ('弟子', 3889), ('只见', 3833), ('二人', 3809), ('之中', 3783), ('段誉', 3524), ('兄弟', 3427), ('便是', 3197), ('站', 3192), ('吃', 3138), ('胡斐', 3126), ('见到', 3065), ('身子', 3045), ('话', 3019), ('脸上', 3012), ('问道', 2990), ('姑娘', 2952), ('今日', 2914), ('身上', 2855), ('忙', 2823), ('跟着', 2794), ('问', 2770), ('功夫', 2714), ('左手', 2709)]\n"
     ]
    }
   ],
   "source": [
    "print(top_50)"
   ]
  },
  {
   "cell_type": "code",
   "execution_count": 28,
   "id": "03ac22e2",
   "metadata": {},
   "outputs": [
    {
     "name": "stdout",
     "output_type": "stream",
     "text": [
      "[('岁歉', 1), ('上勤', 1), ('圣怀', 1), ('既沛', 1), ('之殊', 1), ('颁免', 1), ('赋之旷典', 1), ('诚功', 1), ('德迈百王', 1), ('海内外', 1), ('靡不', 1), ('共戴尧天', 1), ('再臣', 1), ('应宜', 1), ('以清字', 1), ('具折', 1), ('代缮', 1), ('容臣', 1), ('陈奏', 1), ('仍准', 1), ('具奏', 1), ('舛错', 1), ('愆尤', 1), ('自能作', 1), ('这员', 1), ('会下', 1), ('刊完', 1), ('一续', 1), ('刊出', 1), ('不太像', 1), ('习惯于', 1), ('这方面', 1), ('剥夺', 1), ('罗亭', 1), ('牧师', 1), ('性关系', 1), ('秦钟', 1), ('蒋玉函', 1), ('鲁迅', 1), ('阿Q', 1), ('教科书', 1), ('十二部', 1), ('二部', 1), ('首字', 1), ('射白鹿', 1), ('笑书', 1), ('神侠倚', 1), ('人问', 1), ('前期', 1), ('十五部', 1)]\n"
     ]
    }
   ],
   "source": [
    "print(latter_50)"
   ]
  },
  {
   "cell_type": "code",
   "execution_count": 29,
   "id": "9cf7c08b",
   "metadata": {},
   "outputs": [],
   "source": [
    "len_word = []\n",
    "for i in range(len(seg_novel)):\n",
    "    k = seg_novel[i]\n",
    "    for j in k:\n",
    "        len_word.append(len(j))"
   ]
  },
  {
   "cell_type": "code",
   "execution_count": 91,
   "id": "82dc900a",
   "metadata": {},
   "outputs": [],
   "source": [
    "%matplotlib inline    \n",
    "%config InlineBackend.figure_format = 'retina' \n",
    "\n",
    "import matplotlib.pyplot as plt\n",
    "import matplotlib\n",
    "import seaborn as sns\n",
    "\n",
    "import numpy as np \n",
    "import pandas as pd "
   ]
  },
  {
   "cell_type": "code",
   "execution_count": 73,
   "id": "be3560b2",
   "metadata": {},
   "outputs": [],
   "source": [
    "result=pd.value_counts(len_word,sort=True)"
   ]
  },
  {
   "cell_type": "code",
   "execution_count": 84,
   "id": "f9d3de42",
   "metadata": {},
   "outputs": [
    {
     "data": {
      "text/plain": [
       "array([ 2,  1,  3,  4,  5,  6,  7,  8,  9, 42, 10, 11, 13, 14, 12],\n",
       "      dtype=int64)"
      ]
     },
     "execution_count": 84,
     "metadata": {},
     "output_type": "execute_result"
    }
   ],
   "source": [
    "np.array(result.index)"
   ]
  },
  {
   "cell_type": "code",
   "execution_count": 83,
   "id": "f2267105",
   "metadata": {},
   "outputs": [
    {
     "data": {
      "text/plain": [
       "array([1741851,  405615,  291474,  101575,    1737,     639,     207,\n",
       "            36,      13,      12,      10,       6,       2,       2,\n",
       "             1], dtype=int64)"
      ]
     },
     "execution_count": 83,
     "metadata": {},
     "output_type": "execute_result"
    }
   ],
   "source": [
    "result.values"
   ]
  },
  {
   "cell_type": "code",
   "execution_count": 95,
   "id": "2be7891d",
   "metadata": {},
   "outputs": [
    {
     "name": "stdout",
     "output_type": "stream",
     "text": [
      "Using matplotlib backend: Qt5Agg\n"
     ]
    }
   ],
   "source": [
    "%matplotlib auto"
   ]
  },
  {
   "cell_type": "code",
   "execution_count": 96,
   "id": "b414b735",
   "metadata": {},
   "outputs": [
    {
     "data": {
      "text/plain": [
       "Text(0, 0.5, 'num')"
      ]
     },
     "execution_count": 96,
     "metadata": {},
     "output_type": "execute_result"
    }
   ],
   "source": [
    "#mpl.rcParams['font.sans-serif'] = ['SimHei']    # 指定默认字体：解决plot不能显示中文问题\n",
    "#mpl.rcParams['axes.unicode_minus'] = False           # 解决保存图像是负号'-'显示为方块的问题\n",
    "plt.bar(np.array(result.index), result.values, alpha=1, width=0.5, color='yellow', edgecolor='red', label='The First Bar', lw=3)\n",
    "plt.xlabel('length of words') \n",
    "plt.ylabel('num')"
   ]
  },
  {
   "cell_type": "code",
   "execution_count": 101,
   "id": "f288c9d5",
   "metadata": {},
   "outputs": [],
   "source": [
    "len_sent = []\n",
    "for i in seg_novel:\n",
    "    len_sent.append(len(i))"
   ]
  },
  {
   "cell_type": "code",
   "execution_count": 103,
   "id": "dc82daa2",
   "metadata": {},
   "outputs": [
    {
     "data": {
      "text/plain": [
       "Text(0, 0.5, 'num')"
      ]
     },
     "execution_count": 103,
     "metadata": {},
     "output_type": "execute_result"
    }
   ],
   "source": [
    "result=pd.value_counts(len_sent,sort=True)\n",
    "plt.bar(np.array(result.index), result.values, alpha=1, width=0.5, color='yellow', edgecolor='red', label='The First Bar', lw=3)\n",
    "plt.xlabel('length of sentences') \n",
    "plt.ylabel('num')"
   ]
  },
  {
   "cell_type": "code",
   "execution_count": null,
   "id": "a6a8f3ca",
   "metadata": {},
   "outputs": [],
   "source": []
  }
 ],
 "metadata": {
  "kernelspec": {
   "display_name": "Python 3",
   "language": "python",
   "name": "python3"
  },
  "language_info": {
   "codemirror_mode": {
    "name": "ipython",
    "version": 3
   },
   "file_extension": ".py",
   "mimetype": "text/x-python",
   "name": "python",
   "nbconvert_exporter": "python",
   "pygments_lexer": "ipython3",
   "version": "3.8.10"
  }
 },
 "nbformat": 4,
 "nbformat_minor": 5
}
