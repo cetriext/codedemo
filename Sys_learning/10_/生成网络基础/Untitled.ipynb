{
 "cells": [
  {
   "cell_type": "code",
   "execution_count": 5,
   "id": "d91df21c-f2a2-41e9-8a52-3dc8653882ca",
   "metadata": {},
   "outputs": [
    {
     "output_type": "error",
     "ename": "AttributeError",
     "evalue": "module 'torch' has no attribute 'Module'",
     "traceback": [
      "\u001b[1;31m---------------------------------------------------------------------------\u001b[0m",
      "\u001b[1;31mAttributeError\u001b[0m                            Traceback (most recent call last)",
      "\u001b[1;32m<ipython-input-5-3e4d124133a9>\u001b[0m in \u001b[0;36m<module>\u001b[1;34m\u001b[0m\n\u001b[1;32m----> 1\u001b[1;33m \u001b[1;32mclass\u001b[0m \u001b[0mvae\u001b[0m\u001b[1;33m(\u001b[0m\u001b[0mnn\u001b[0m\u001b[1;33m.\u001b[0m\u001b[0mModule\u001b[0m\u001b[1;33m)\u001b[0m\u001b[1;33m:\u001b[0m\u001b[1;33m\u001b[0m\u001b[1;33m\u001b[0m\u001b[0m\n\u001b[0m\u001b[0;32m      2\u001b[0m     \u001b[1;32mdef\u001b[0m \u001b[0m__init__\u001b[0m\u001b[1;33m(\u001b[0m\u001b[0mself\u001b[0m\u001b[1;33m,\u001b[0m\u001b[0mimag_size\u001b[0m\u001b[1;33m,\u001b[0m\u001b[0mh_dim\u001b[0m\u001b[1;33m,\u001b[0m\u001b[0mz_dim\u001b[0m\u001b[1;33m)\u001b[0m\u001b[1;33m:\u001b[0m\u001b[1;33m\u001b[0m\u001b[1;33m\u001b[0m\u001b[0m\n\u001b[0;32m      3\u001b[0m         \u001b[0msuper\u001b[0m\u001b[1;33m(\u001b[0m\u001b[1;33m)\u001b[0m\u001b[1;33m.\u001b[0m\u001b[0m__init__\u001b[0m\u001b[1;33m(\u001b[0m\u001b[1;33m)\u001b[0m\u001b[1;33m\u001b[0m\u001b[1;33m\u001b[0m\u001b[0m\n\u001b[0;32m      4\u001b[0m         \u001b[0mself\u001b[0m\u001b[1;33m.\u001b[0m\u001b[0ml1\u001b[0m \u001b[1;33m=\u001b[0m \u001b[0mnn\u001b[0m\u001b[1;33m.\u001b[0m\u001b[0mLinear\u001b[0m\u001b[1;33m(\u001b[0m\u001b[0mimag_size\u001b[0m\u001b[1;33m,\u001b[0m \u001b[0mh_dim\u001b[0m\u001b[1;33m)\u001b[0m\u001b[1;33m\u001b[0m\u001b[1;33m\u001b[0m\u001b[0m\n\u001b[0;32m      5\u001b[0m         \u001b[0mself\u001b[0m\u001b[1;33m.\u001b[0m\u001b[0ml2\u001b[0m \u001b[1;33m=\u001b[0m \u001b[0mnn\u001b[0m\u001b[1;33m.\u001b[0m\u001b[0mLinear\u001b[0m\u001b[1;33m(\u001b[0m\u001b[0mh_dim\u001b[0m\u001b[1;33m,\u001b[0m \u001b[0mz_dim\u001b[0m\u001b[1;33m)\u001b[0m\u001b[1;33m\u001b[0m\u001b[1;33m\u001b[0m\u001b[0m\n",
      "\u001b[1;31mAttributeError\u001b[0m: module 'torch' has no attribute 'Module'"
     ]
    }
   ],
   "source": [
    "class vae(nn.Module):\n",
    "    def __init__(self,imag_size=784,h_dim=400,z_dim=20):\n",
    "        super().__init__()\n",
    "        self.l1 = nn.Linear(imag_size, h_dim)\n",
    "        self.l2 = nn.Linear(h_dim, z_dim)\n",
    "        self.l3 = nn.Linear(h_dim, z_dim)\n",
    "        self.l4 = nn.Linear(z_dim, h_dim)\n",
    "        self.l5 = nn.Linear(h_dim, imag_size)\n",
    "    \n",
    "    def encoder(self,x):\n",
    "        x = self.l1(x)\n",
    "        x = nn.ReLu(x)\n",
    "        return self.l2(x),self.l3(x)\n",
    "    \n",
    "    def gen(self,mu,log_var):\n",
    "        std = torch.exp(log_var/2)\n",
    "        eps = torch.rand_int(std)\n",
    "        return mu + eps*std\n",
    "\n",
    "    def decoder(self,z):\n",
    "        z = self.l4(z)\n",
    "        z = nn.Relu(z)\n",
    "        z = self.l5(z)\n",
    "        z = nn.sigmoid(z)\n",
    "        return z\n",
    "    \n",
    "    def forward(self,x):\n",
    "        mu,log_var = self.encoder(x)\n",
    "        z = self.gen(mu,log_var)\n",
    "        x = self.decoder(z)\n",
    "        return x,mu,log_var\n",
    "        "
   ]
  },
  {
   "cell_type": "code",
   "execution_count": 3,
   "metadata": {},
   "outputs": [],
   "source": [
    "import torch as nn"
   ]
  },
  {
   "cell_type": "code",
   "execution_count": null,
   "metadata": {},
   "outputs": [],
   "source": []
  }
 ],
 "metadata": {
  "kernelspec": {
   "name": "python3810jvsc74a57bd010af978fea531dc973388181e6b1e20981416c4c3c82af89fda76504b946c2bb",
   "display_name": "Python 3.8.10 64-bit ('base': conda)"
  },
  "language_info": {
   "codemirror_mode": {
    "name": "ipython",
    "version": 3
   },
   "file_extension": ".py",
   "mimetype": "text/x-python",
   "name": "python",
   "nbconvert_exporter": "python",
   "pygments_lexer": "ipython3",
   "version": "3.8.10"
  }
 },
 "nbformat": 4,
 "nbformat_minor": 5
}