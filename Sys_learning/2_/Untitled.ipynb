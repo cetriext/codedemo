{
 "cells": [
  {
   "cell_type": "code",
   "execution_count": 1,
   "id": "martial-sampling",
   "metadata": {},
   "outputs": [],
   "source": [
    "import numpy as np\n",
    "import matplotlib.pyplot as plt"
   ]
  },
  {
   "cell_type": "code",
   "execution_count": 3,
   "id": "allied-injection",
   "metadata": {
    "collapsed": true,
    "jupyter": {
     "outputs_hidden": true
    },
    "tags": []
   },
   "outputs": [
    {
     "name": "stdout",
     "output_type": "stream",
     "text": [
      "[[ 50.        ]\n",
      " [ 52.04081633]\n",
      " [ 54.08163265]\n",
      " [ 56.12244898]\n",
      " [ 58.16326531]\n",
      " [ 60.20408163]\n",
      " [ 62.24489796]\n",
      " [ 64.28571429]\n",
      " [ 66.32653061]\n",
      " [ 68.36734694]\n",
      " [ 70.40816327]\n",
      " [ 72.44897959]\n",
      " [ 74.48979592]\n",
      " [ 76.53061224]\n",
      " [ 78.57142857]\n",
      " [ 80.6122449 ]\n",
      " [ 82.65306122]\n",
      " [ 84.69387755]\n",
      " [ 86.73469388]\n",
      " [ 88.7755102 ]\n",
      " [ 90.81632653]\n",
      " [ 92.85714286]\n",
      " [ 94.89795918]\n",
      " [ 96.93877551]\n",
      " [ 98.97959184]\n",
      " [101.02040816]\n",
      " [103.06122449]\n",
      " [105.10204082]\n",
      " [107.14285714]\n",
      " [109.18367347]\n",
      " [111.2244898 ]\n",
      " [113.26530612]\n",
      " [115.30612245]\n",
      " [117.34693878]\n",
      " [119.3877551 ]\n",
      " [121.42857143]\n",
      " [123.46938776]\n",
      " [125.51020408]\n",
      " [127.55102041]\n",
      " [129.59183673]\n",
      " [131.63265306]\n",
      " [133.67346939]\n",
      " [135.71428571]\n",
      " [137.75510204]\n",
      " [139.79591837]\n",
      " [141.83673469]\n",
      " [143.87755102]\n",
      " [145.91836735]\n",
      " [147.95918367]\n",
      " [150.        ]]\n"
     ]
    }
   ],
   "source": [
    "x = np.linspace(50, 150)\n",
    "w = 3.6\n",
    "y = w * x + np.random.normal(0, 30, size=x.size)\n",
    "X = x.reshape(-1, 1)\n",
    "Y = y.reshape(-1, 1)"
   ]
  },
  {
   "cell_type": "code",
   "execution_count": 4,
   "id": "related-fossil",
   "metadata": {},
   "outputs": [
    {
     "data": {
      "text/plain": [
       "array([[1.84037559e-06]])"
      ]
     },
     "execution_count": 4,
     "metadata": {},
     "output_type": "execute_result"
    }
   ],
   "source": [
    "inv = np.linalg.inv(np.dot(X.T, X))\n",
    "inv"
   ]
  },
  {
   "cell_type": "code",
   "execution_count": 6,
   "id": "possible-aerospace",
   "metadata": {},
   "outputs": [
    {
     "data": {
      "text/plain": [
       "array([[543367.34693878]])"
      ]
     },
     "execution_count": 6,
     "metadata": {},
     "output_type": "execute_result"
    }
   ],
   "source": [
    "np.dot(X.T, X)"
   ]
  },
  {
   "cell_type": "code",
   "execution_count": 9,
   "id": "vertical-exemption",
   "metadata": {},
   "outputs": [
    {
     "data": {
      "text/plain": [
       "50"
      ]
     },
     "execution_count": 9,
     "metadata": {},
     "output_type": "execute_result"
    }
   ],
   "source": [
    "X.shape[]"
   ]
  },
  {
   "cell_type": "code",
   "execution_count": null,
   "id": "freelance-timber",
   "metadata": {},
   "outputs": [],
   "source": []
  }
 ],
 "metadata": {
  "kernelspec": {
   "display_name": "Python 3",
   "language": "python",
   "name": "python3"
  },
  "language_info": {
   "codemirror_mode": {
    "name": "ipython",
    "version": 3
   },
   "file_extension": ".py",
   "mimetype": "text/x-python",
   "name": "python",
   "nbconvert_exporter": "python",
   "pygments_lexer": "ipython3",
   "version": "3.8.8"
  }
 },
 "nbformat": 4,
 "nbformat_minor": 5
}
