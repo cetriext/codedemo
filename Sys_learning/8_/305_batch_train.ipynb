{
 "cells": [
  {
   "cell_type": "markdown",
   "metadata": {},
   "source": [
    "# 305 Batch Train\n"
   ]
  },
  {
   "cell_type": "code",
   "execution_count": 2,
   "metadata": {},
   "outputs": [
    {
     "data": {
      "text/plain": [
       "<torch._C.Generator at 0x21f0427a250>"
      ]
     },
     "execution_count": 2,
     "metadata": {},
     "output_type": "execute_result"
    }
   ],
   "source": [
    "import torch\n",
    "import torch.utils.data as Data\n",
    "\n",
    "torch.manual_seed(1)    # reproducible"
   ]
  },
  {
   "cell_type": "code",
   "execution_count": 3,
   "metadata": {},
   "outputs": [],
   "source": [
    "BATCH_SIZE = 3\n",
    "# BATCH_SIZE = 8"
   ]
  },
  {
   "cell_type": "code",
   "execution_count": 4,
   "metadata": {},
   "outputs": [],
   "source": [
    "x = torch.linspace(1, 10, 10)       # this is x data (torch tensor)\n",
    "y = torch.linspace(10, 1, 10)       # this is y data (torch tensor)\n"
   ]
  },
  {
   "cell_type": "code",
   "execution_count": 6,
   "metadata": {},
   "outputs": [
    {
     "data": {
      "text/plain": [
       "torch.Size([10])"
      ]
     },
     "execution_count": 6,
     "metadata": {},
     "output_type": "execute_result"
    }
   ],
   "source": [
    "y.shape\n",
    "x.shape"
   ]
  },
  {
   "cell_type": "code",
   "execution_count": 15,
   "metadata": {},
   "outputs": [],
   "source": [
    "torch_dataset = Data.TensorDataset(x, y)\n",
    "loader = Data.DataLoader(\n",
    "    dataset=torch_dataset,      # torch TensorDataset format\n",
    "    batch_size=BATCH_SIZE,      # mini batch size\n",
    "    shuffle=True,               # random shuffle for training\n",
    "    num_workers=2,              # subprocesses for loading data让工作跑得更快\n",
    ")"
   ]
  },
  {
   "cell_type": "code",
   "execution_count": 16,
   "metadata": {},
   "outputs": [
    {
     "name": "stdout",
     "output_type": "stream",
     "text": [
      "(tensor(1.), tensor(10.))\n",
      "(tensor(2.), tensor(9.))\n",
      "(tensor(3.), tensor(8.))\n",
      "(tensor(4.), tensor(7.))\n",
      "(tensor(5.), tensor(6.))\n",
      "(tensor(6.), tensor(5.))\n",
      "(tensor(7.), tensor(4.))\n",
      "(tensor(8.), tensor(3.))\n",
      "(tensor(9.), tensor(2.))\n",
      "(tensor(10.), tensor(1.))\n"
     ]
    }
   ],
   "source": [
    "for i in torch_dataset:\n",
    "    print(i)"
   ]
  },
  {
   "cell_type": "code",
   "execution_count": 17,
   "metadata": {},
   "outputs": [
    {
     "name": "stdout",
     "output_type": "stream",
     "text": [
      "Epoch:  0 | Step:  0 | batch x:  [ 3.  2. 10.] | batch y:  [8. 9. 1.]\n",
      "Epoch:  0 | Step:  1 | batch x:  [8. 6. 7.] | batch y:  [3. 5. 4.]\n",
      "Epoch:  0 | Step:  2 | batch x:  [9. 4. 5.] | batch y:  [2. 7. 6.]\n",
      "Epoch:  0 | Step:  3 | batch x:  [1.] | batch y:  [10.]\n",
      "Epoch:  1 | Step:  0 | batch x:  [3. 2. 8.] | batch y:  [8. 9. 3.]\n",
      "Epoch:  1 | Step:  1 | batch x:  [7. 6. 9.] | batch y:  [4. 5. 2.]\n",
      "Epoch:  1 | Step:  2 | batch x:  [1. 4. 5.] | batch y:  [10.  7.  6.]\n",
      "Epoch:  1 | Step:  3 | batch x:  [10.] | batch y:  [1.]\n",
      "Epoch:  2 | Step:  0 | batch x:  [ 8.  9. 10.] | batch y:  [3. 2. 1.]\n",
      "Epoch:  2 | Step:  1 | batch x:  [3. 4. 5.] | batch y:  [8. 7. 6.]\n",
      "Epoch:  2 | Step:  2 | batch x:  [6. 7. 2.] | batch y:  [5. 4. 9.]\n",
      "Epoch:  2 | Step:  3 | batch x:  [1.] | batch y:  [10.]\n"
     ]
    }
   ],
   "source": [
    "for epoch in range(3):   # train entire dataset 3 times\n",
    "    for step, (batch_x, batch_y) in enumerate(loader):  # for each training step\n",
    "        # train your data...\n",
    "        print('Epoch: ', epoch, '| Step: ', step, '| batch x: ',\n",
    "              batch_x.numpy(), '| batch y: ', batch_y.numpy())\n"
   ]
  },
  {
   "cell_type": "markdown",
   "metadata": {},
   "source": [
    "### Suppose a different batch size that cannot be fully divided by the number of data entreis:"
   ]
  },
  {
   "cell_type": "code",
   "execution_count": 10,
   "metadata": {},
   "outputs": [
    {
     "name": "stdout",
     "output_type": "stream",
     "text": [
      "Epoch:  0 | Step:  0 | batch x:  [ 4. 10.  9.  8.  7.  6.  1.  2.] | batch y:  [ 7.  1.  2.  3.  4.  5. 10.  9.]\n",
      "Epoch:  0 | Step:  1 | batch x:  [5. 3.] | batch y:  [6. 8.]\n",
      "Epoch:  1 | Step:  0 | batch x:  [9. 8. 4. 6. 5. 3. 7. 2.] | batch y:  [2. 3. 7. 5. 6. 8. 4. 9.]\n",
      "Epoch:  1 | Step:  1 | batch x:  [10.  1.] | batch y:  [ 1. 10.]\n",
      "Epoch:  2 | Step:  0 | batch x:  [ 5.  1.  3.  7.  6. 10.  9.  8.] | batch y:  [ 6. 10.  8.  4.  5.  1.  2.  3.]\n",
      "Epoch:  2 | Step:  1 | batch x:  [2. 4.] | batch y:  [9. 7.]\n"
     ]
    }
   ],
   "source": [
    "BATCH_SIZE = 8\n",
    "loader = Data.DataLoader(\n",
    "    dataset=torch_dataset,      # torch TensorDataset format\n",
    "    batch_size=BATCH_SIZE,      # mini batch size\n",
    "    shuffle=True,               # random shuffle for training\n",
    "    num_workers=2,              # subprocesses for loading data\n",
    ")\n",
    "for epoch in range(3):   # train entire dataset 3 times\n",
    "    for step, (batch_x, batch_y) in enumerate(loader):  # for each training step\n",
    "        # train your data...\n",
    "        print('Epoch: ', epoch, '| Step: ', step, '| batch x: ',\n",
    "              batch_x.numpy(), '| batch y: ', batch_y.numpy())"
   ]
  },
  {
   "cell_type": "code",
   "execution_count": null,
   "metadata": {
    "collapsed": true,
    "jupyter": {
     "outputs_hidden": true
    }
   },
   "outputs": [],
   "source": []
  }
 ],
 "metadata": {
  "kernelspec": {
   "display_name": "Python 3",
   "language": "python",
   "name": "python3"
  },
  "language_info": {
   "codemirror_mode": {
    "name": "ipython",
    "version": 3
   },
   "file_extension": ".py",
   "mimetype": "text/x-python",
   "name": "python",
   "nbconvert_exporter": "python",
   "pygments_lexer": "ipython3",
   "version": "3.8.10"
  }
 },
 "nbformat": 4,
 "nbformat_minor": 4
}
