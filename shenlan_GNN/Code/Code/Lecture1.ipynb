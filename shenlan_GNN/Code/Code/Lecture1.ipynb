{
 "cells": [
  {
   "cell_type": "markdown",
   "metadata": {},
   "source": [
    "## 安装教程"
   ]
  },
  {
   "cell_type": "markdown",
   "metadata": {},
   "source": [
    "我们推荐使用Anaconda来管理Python当中用到的各种工具包。首先我们在官网 https://www.anaconda.com/products/individual 里根据当前使用的计算机系统选择对应的版本下载。下载完毕后需要将存储Anaconda的路径加入到全局变量中"
   ]
  },
  {
   "cell_type": "markdown",
   "metadata": {},
   "source": [
    "使用如下命令创建一个新的虚拟环境，名为torch，使用python 3.8\n",
    "\n",
    "`conda create --name gnn python=3.8 -y`"
   ]
  },
  {
   "cell_type": "markdown",
   "metadata": {},
   "source": [
    "接着启动该虚拟环境\n",
    "\n",
    "`conda activate gnn`"
   ]
  },
  {
   "cell_type": "markdown",
   "metadata": {},
   "source": [
    "然后我们安装必要的工具包\n",
    "\n",
    "`pip install torch torchvision`\n",
    "\n",
    "`pip install matplotlib`"
   ]
  },
  {
   "cell_type": "markdown",
   "metadata": {},
   "source": [
    "接下来我们需要将`gnn`这个虚拟环境加入到jupyter notebook的kernel中\n",
    "\n",
    "`conda install -c anaconda ipykernel`\n",
    "\n",
    "`python -m ipykernel install --user --name=gnn`"
   ]
  },
  {
   "cell_type": "markdown",
   "metadata": {},
   "source": [
    "启动jupyter notebook\n",
    "\n",
    "`jupyter notebook`"
   ]
  },
  {
   "cell_type": "markdown",
   "metadata": {},
   "source": [
    "我们可以看到一个kernel是`gnn`，意味着我们可以使用`gnn`这个虚拟环境的工具包了"
   ]
  },
  {
   "cell_type": "markdown",
   "metadata": {},
   "source": [
    "![](figures/jupkernel.png)"
   ]
  },
  {
   "cell_type": "markdown",
   "metadata": {},
   "source": [
    "# 第二讲： 深度学习基础"
   ]
  },
  {
   "cell_type": "markdown",
   "metadata": {},
   "source": [
    "Jupyter Notebook的安装\n",
    "请参考https://www.jianshu.com/p/91365f343585 第二部分（安装Jupyter Notebook）"
   ]
  },
  {
   "cell_type": "code",
   "execution_count": 2,
   "metadata": {},
   "outputs": [],
   "source": [
    "# 在开始之前需要确保我们安装了如下工具包\n",
    "# pytorch, torchvision, matplotlib\n",
    "# 导入必要的工具包\n",
    "import torch\n",
    "from torch import nn\n",
    "import torch.nn.functional as F"
   ]
  },
  {
   "cell_type": "markdown",
   "metadata": {},
   "source": [
    "## 0. PyTorch基础\n",
    "PyTorch是当下非常火热的深度学习框架，其简洁的接口设计和详细的文档极大了降低了学习成本。不同于另一个热门深度学习框架TensorFlow, PyTorch基于动态图，也就是说，PyTorch每次前向计算的时候都会重新构建一个新的计算图。这个特性使得PyTorch更加直观，写代码的逻辑更加接近Python本身的风格，也更加便于debug。接下来我们介绍PyTorch的一些重要特性。"
   ]
  },
  {
   "cell_type": "markdown",
   "metadata": {},
   "source": [
    "### 0.1 Tensor对象\n",
    "PyTorch的核心是Tensor对象。Tensor是多维数组对象，可用于表示一维向量和高维矩阵。PyTorch提供了用于数组快速操作的各种API，并且用户可以使用GPU来加速涉及到Tensor的计算。Tensor对象和Numpy的ndarray对象非常相似，都是表示多维数组，而且许多API也类似。"
   ]
  },
  {
   "cell_type": "code",
   "execution_count": 3,
   "metadata": {},
   "outputs": [
    {
     "name": "stdout",
     "output_type": "stream",
     "text": [
      "tensor([[-0.0403,  0.4026,  0.7254],\n",
      "        [-1.6639,  0.0069,  0.1194]])\n"
     ]
    }
   ],
   "source": [
    "# 创建一个2x3的random tensor（可用于模型参数初始化）\n",
    "a = torch.randn((2, 3))\n",
    "print(a)"
   ]
  },
  {
   "cell_type": "code",
   "execution_count": 4,
   "metadata": {},
   "outputs": [
    {
     "name": "stdout",
     "output_type": "stream",
     "text": [
      "tensor([[1., 1., 1.],\n",
      "        [1., 1., 1.]])\n",
      "tensor([[ 0.9597,  1.4026,  1.7254],\n",
      "        [-0.6639,  1.0069,  1.1194]])\n"
     ]
    }
   ],
   "source": [
    "b = torch.ones((2, 3))\n",
    "print(b)\n",
    "print(a + b)"
   ]
  },
  {
   "cell_type": "code",
   "execution_count": 5,
   "metadata": {},
   "outputs": [
    {
     "data": {
      "text/plain": [
       "tensor([[ 0.9597,  1.4026,  1.7254],\n",
       "        [-0.6639,  1.0069,  1.1194]])"
      ]
     },
     "execution_count": 5,
     "metadata": {},
     "output_type": "execute_result"
    }
   ],
   "source": [
    "a.add(b)"
   ]
  },
  {
   "cell_type": "code",
   "execution_count": 6,
   "metadata": {},
   "outputs": [
    {
     "name": "stdout",
     "output_type": "stream",
     "text": [
      "tensor([[1., 1.],\n",
      "        [1., 1.],\n",
      "        [1., 1.]])\n",
      "tensor([[ 1.0877,  1.0877],\n",
      "        [-1.5377, -1.5377]])\n"
     ]
    }
   ],
   "source": [
    "c = torch.ones((3, 2))\n",
    "print(c)\n",
    "print(a.mm(c))  # mm是matmul的意思，表示矩阵相乘，这里的到一个2x2的矩阵"
   ]
  },
  {
   "cell_type": "code",
   "execution_count": 7,
   "metadata": {
    "scrolled": true
   },
   "outputs": [
    {
     "data": {
      "text/plain": [
       "tensor([[-0.0403,  0.4026,  0.7254],\n",
       "        [-1.6639,  0.0069,  0.1194]])"
      ]
     },
     "execution_count": 7,
     "metadata": {},
     "output_type": "execute_result"
    }
   ],
   "source": [
    "a.to('cpu') # 将该tensor放在cpu上；也可以不写这行代码，tensor默认放在cpu上的\n",
    "# a.to('cuda') # 将该tensor放在gpu上；如果没有配置好cuda的话会报错"
   ]
  },
  {
   "cell_type": "markdown",
   "metadata": {},
   "source": [
    "### 0.2 PyTorch中的反向传播\n",
    "PyTorch的另一大特性就是可以对计算过程进行自动求导，便于反向转播。对tensor的每一个操作都会留下计算图，并保留求导的路径。"
   ]
  },
  {
   "cell_type": "markdown",
   "metadata": {},
   "source": [
    "### 0.2.1 Autograd自动求导"
   ]
  },
  {
   "cell_type": "code",
   "execution_count": 8,
   "metadata": {},
   "outputs": [
    {
     "data": {
      "text/plain": [
       "tensor([[1., 1.],\n",
       "        [1., 1.]], requires_grad=True)"
      ]
     },
     "execution_count": 8,
     "metadata": {},
     "output_type": "execute_result"
    }
   ],
   "source": [
    "# 首先我们创建一个能够计算梯度的tensor，记为a_（和前面的a区别开）\n",
    "a_ = torch.ones((2,2), requires_grad=True)\n",
    "a_"
   ]
  },
  {
   "cell_type": "code",
   "execution_count": 9,
   "metadata": {},
   "outputs": [],
   "source": [
    "# 因为没有对a_进行任何操作，所以a_.grad是None\n",
    "a_.grad"
   ]
  },
  {
   "cell_type": "code",
   "execution_count": 10,
   "metadata": {},
   "outputs": [
    {
     "data": {
      "text/plain": [
       "tensor([[2., 2.],\n",
       "        [2., 2.]], grad_fn=<AddBackward0>)"
      ]
     },
     "execution_count": 10,
     "metadata": {},
     "output_type": "execute_result"
    }
   ],
   "source": [
    "b_ = a_ + 1\n",
    "b_"
   ]
  },
  {
   "cell_type": "markdown",
   "metadata": {},
   "source": [
    "我们可以看到b这个tensor里有一个grad_fn,这个grad_fn记录了创建b这个tensor的操作，这样便于之后反向传播（求导）"
   ]
  },
  {
   "cell_type": "code",
   "execution_count": 11,
   "metadata": {},
   "outputs": [
    {
     "data": {
      "text/plain": [
       "tensor(8., grad_fn=<SumBackward0>)"
      ]
     },
     "execution_count": 11,
     "metadata": {},
     "output_type": "execute_result"
    }
   ],
   "source": [
    "# 定义一个变量sum_\n",
    "sum_ = b_.sum()\n",
    "sum_"
   ]
  },
  {
   "cell_type": "code",
   "execution_count": 12,
   "metadata": {},
   "outputs": [],
   "source": [
    "# 然后我们反向传播\n",
    "sum_.backward()"
   ]
  },
  {
   "cell_type": "code",
   "execution_count": 13,
   "metadata": {},
   "outputs": [
    {
     "data": {
      "text/plain": [
       "tensor([[1., 1.],\n",
       "        [1., 1.]])"
      ]
     },
     "execution_count": 13,
     "metadata": {},
     "output_type": "execute_result"
    }
   ],
   "source": [
    "# 接着我们就能直接得到a_的梯度了\n",
    "a_.grad"
   ]
  },
  {
   "cell_type": "markdown",
   "metadata": {},
   "source": [
    "值得注意的是，`backward()`函数调用一次之后会把涉及到的计算图清零，如果连续调用两次`backward()`，第二次`backward()就会报错"
   ]
  },
  {
   "cell_type": "markdown",
   "metadata": {},
   "source": [
    "### 0.2.2 PyTorch中的optimizer\n",
    "在0.2.1中我知道了可以通过`backward()`函数求得tensor的梯度，那么直接使用梯度下降就可以更新参数了。梯度下降有很多变种，比如SGD、Momentum梯度下降、Adam梯度下降，PyTorch已经在`torch.optim`中为我们实现好了这些优化方法，我们可以直接使用。"
   ]
  },
  {
   "cell_type": "code",
   "execution_count": 14,
   "metadata": {},
   "outputs": [],
   "source": [
    "param = nn.Parameter(torch.ones(2,2))\n",
    "optimizer0 = torch.optim.SGD([param], lr=0.1)"
   ]
  },
  {
   "cell_type": "code",
   "execution_count": 15,
   "metadata": {},
   "outputs": [],
   "source": [
    "# 我们自行定义一个损失函数，它是param里每个元素的平方和，所以当loss最小时（即0），param里的值全是0\n",
    "loss0 = (param**2).sum()"
   ]
  },
  {
   "cell_type": "code",
   "execution_count": 16,
   "metadata": {},
   "outputs": [
    {
     "name": "stdout",
     "output_type": "stream",
     "text": [
      "Parameter containing:\n",
      "tensor([[0.8000, 0.8000],\n",
      "        [0.8000, 0.8000]], requires_grad=True)\n"
     ]
    }
   ],
   "source": [
    "# 每次backward前我们需要调用zero_grad()来清空参数里的梯度，不然的话这个grad值会一直累积\n",
    "optimizer0.zero_grad() \n",
    "loss0.backward()\n",
    "optimizer0.step()\n",
    "print(param)"
   ]
  },
  {
   "cell_type": "code",
   "execution_count": 17,
   "metadata": {},
   "outputs": [
    {
     "name": "stdout",
     "output_type": "stream",
     "text": [
      "loss value: 2.56\n",
      "loss value: 1.64\n",
      "loss value: 1.05\n",
      "loss value: 0.67\n",
      "loss value: 0.43\n",
      "loss value: 0.27\n",
      "loss value: 0.18\n",
      "loss value: 0.11\n",
      "loss value: 0.07\n",
      "loss value: 0.05\n",
      "loss value: 0.03\n",
      "loss value: 0.02\n",
      "loss value: 0.01\n",
      "loss value: 0.01\n",
      "loss value: 0.00\n",
      "loss value: 0.00\n",
      "loss value: 0.00\n",
      "loss value: 0.00\n",
      "loss value: 0.00\n",
      "loss value: 0.00\n",
      "优化后的参数： Parameter containing:\n",
      "tensor([[0.0092, 0.0092],\n",
      "        [0.0092, 0.0092]], requires_grad=True)\n"
     ]
    }
   ],
   "source": [
    "# 我们也可以写一个循环来优化参数，如下\n",
    "for i in range(20):\n",
    "    optimizer0.zero_grad()\n",
    "    loss0 = (param**2).sum()\n",
    "    loss0.backward()\n",
    "    optimizer0.step()\n",
    "    print('loss value: {:.2f}'.format(loss0.item()))\n",
    "print('优化后的参数：', param)"
   ]
  },
  {
   "cell_type": "markdown",
   "metadata": {},
   "source": [
    "从上面的例子我们可以看到，`loss`值在不断减小，而最后我们得到的`param`也非常接近于0。"
   ]
  },
  {
   "cell_type": "markdown",
   "metadata": {},
   "source": [
    "## 1. 加载数据"
   ]
  },
  {
   "cell_type": "markdown",
   "metadata": {},
   "source": [
    "我们以MNIST数据集为例展示PyTorch中如何加载数据。MNIST数据集包含了10种不同手写的数字，即0到9。每张图片的标签也就是0到9中的某个数字。在这个数据集上，我们的任务是预测图片对应哪个数字，所以这是一个分类问题。"
   ]
  },
  {
   "cell_type": "markdown",
   "metadata": {},
   "source": [
    "`torchvision`中收集了多种数据集，我们可以直接调用这个工具包来下载我们需要的数据。"
   ]
  },
  {
   "cell_type": "code",
   "execution_count": 18,
   "metadata": {},
   "outputs": [
    {
     "name": "stderr",
     "output_type": "stream",
     "text": [
      "/Users/jinwei/anaconda3/envs/torch18/lib/python3.7/site-packages/torchvision/datasets/mnist.py:498: UserWarning: The given NumPy array is not writeable, and PyTorch does not support non-writeable tensors. This means you can write to the underlying (supposedly non-writeable) NumPy array using the tensor. You may want to copy the array to protect its data or make it writeable before converting it to a tensor. This type of warning will be suppressed for the rest of this program. (Triggered internally at  ../torch/csrc/utils/tensor_numpy.cpp:180.)\n",
      "  return torch.from_numpy(parsed.astype(m[2], copy=False)).view(*s)\n"
     ]
    }
   ],
   "source": [
    "import matplotlib.pyplot as plt\n",
    "from torchvision import datasets, transforms\n",
    "\n",
    "# 下载MNIST数据集中的训练集，并保存到data文件夹\n",
    "data_train = datasets.MNIST('data', train=True, download=True, transform=transforms.ToTensor())\n",
    "# 加载MNIST数据集中的测试集\n",
    "data_test = datasets.MNIST('data', train=False, download=True, transform=transforms.ToTensor())"
   ]
  },
  {
   "cell_type": "markdown",
   "metadata": {},
   "source": [
    "这里可能会有个warning，不过我们不需要管它。"
   ]
  },
  {
   "cell_type": "markdown",
   "metadata": {},
   "source": [
    "`data_train`和`data_test`是`dataset.MNIST`的对象，我们可以按下标访问其中的内容，会得到形如`(data, label)`的数据。"
   ]
  },
  {
   "cell_type": "code",
   "execution_count": 19,
   "metadata": {},
   "outputs": [
    {
     "data": {
      "text/plain": [
       "torch.Size([1, 28, 28])"
      ]
     },
     "execution_count": 19,
     "metadata": {},
     "output_type": "execute_result"
    }
   ],
   "source": [
    "img, label = data_train[0] # 取出第一个数据（第一张图片）\n",
    "img.size() "
   ]
  },
  {
   "cell_type": "markdown",
   "metadata": {},
   "source": [
    "我们不难发现每张图其实是一个三维的矩阵。注意，MNIST数据是单通道图片，所以`(1, 28, 28)`的第一维度是1。"
   ]
  },
  {
   "cell_type": "code",
   "execution_count": 20,
   "metadata": {},
   "outputs": [
    {
     "data": {
      "image/png": "[encoded data removed]",
      "text/plain": [
       "<Figure size 720x144 with 10 Axes>"
      ]
     },
     "metadata": {
      "needs_background": "light"
     },
     "output_type": "display_data"
    }
   ],
   "source": [
    "# 可视化前10个数据\n",
    "plt.figure(figsize=(10, 2))\n",
    "for i in range(10):\n",
    "    img, label = data_train[i]\n",
    "    img = img.numpy().squeeze() # 用squeeze()函数将img的size从（1，28，28）变成（28，28），从而方便可视化\n",
    "    plt.subplot(1, 10, i+1)\n",
    "    plt.imshow(img)"
   ]
  },
  {
   "cell_type": "markdown",
   "metadata": {},
   "source": [
    "## 2. 前馈神经网络"
   ]
  },
  {
   "cell_type": "markdown",
   "metadata": {},
   "source": [
    "在前面的部分中，我们了解了在PyTorch如何加载数据。接下来我们讲解如何在PyTorch中搭建、训练前馈神经网络，并完成分类任务。"
   ]
  },
  {
   "cell_type": "markdown",
   "metadata": {},
   "source": [
    "### 2.1. 搭建神经网络"
   ]
  },
  {
   "cell_type": "markdown",
   "metadata": {},
   "source": [
    "首先我们回顾一下前馈神经网络的构造。下图展示了有两层网络层的神经网络，即（1）输入到隐藏层和（2）隐藏层到输出。输出的向量我们通常会再经过一层Softmax得到每个类别的概率，然后计算损失函数。接下来我们展示在PyTorch搭建网络的方法。注意，前馈神经网络也称多层感知机（Multi-Layer Perceptron, MLP），在后面的描述中我们会使用MLP来代表前馈神经网络。\n",
    "![](figures/2-layer-mlp.png)"
   ]
  },
  {
   "cell_type": "markdown",
   "metadata": {},
   "source": [
    "### 2.1.1 用矩阵运算搭建神经网络层"
   ]
  },
  {
   "cell_type": "markdown",
   "metadata": {},
   "source": [
    "因为神经网络里的运算其实就是在对矩阵进行操作，所以我们可以直接把网络用矩阵运算来表示。例如，给定输入`x`，一个线性层里的操作可以表示为: `x' = W x + b`，其中W和b是这个线性层的参数。遵循面向对象编程（Object Oriented Programming，OOP）的原则，我们定义一个前馈神经网络的类，把我们需要的功能封装在其中。我们可以按照如下的逻辑来设计一个两层前馈神经网络：\n",
    "```\n",
    "# 伪代码\n",
    "class MLP:\n",
    "    def __init__(self):\n",
    "        self.layer1 = xxx\n",
    "        self.layer2 = xxx\n",
    "    \n",
    "    def forward(self, x): # x是模型输入\n",
    "        # 执行self.layer1的功能\n",
    "        # 非线性激活函数\n",
    "        # 执行self.layer2的功能\n",
    "        return something\n",
    "```\n",
    "上面的代码不是一股脑地把网络直接实现，而是将网络的每一层解耦，这样可以便于我们拓展这个网络的功能（增加更多网络层或者改变网络层内部实现），并且避免这个类变得过于臃肿。接下来我们展示在PyTorch中怎么具体设计这个网络层（定义一个线性类，名为Linear）。"
   ]
  },
  {
   "cell_type": "code",
   "execution_count": 21,
   "metadata": {},
   "outputs": [],
   "source": [
    "class Linear(nn.Module): # 继承torch.nn.Module\n",
    "    def __init__(self, in_features, out_features):\n",
    "        super(Linear, self).__init__() # super()是表示调用父类的函数，这行代码相当于nn.Module.__init__(self)\n",
    "        self.weight = nn.Parameter(torch.randn(in_features, out_features)) \n",
    "        self.bias = nn.Parameter(torch.randn(out_features))\n",
    "    \n",
    "    def forward(self, x): # x是模型输入\n",
    "        x = x.mm(self.weight) \n",
    "        return x + self.bias"
   ]
  },
  {
   "cell_type": "markdown",
   "metadata": {},
   "source": [
    "一些注意事项：\n",
    "1. 定义的`Linear`层需要继承`nn.Module`(`torch.nn.Module`)这个类。继承这个类之后，`Linear`这个类就能使用`nn.Module`类里定义好的函数。比如`eval()`、`to()`。 同时继承之后需要调用父类的初始化函数，即`super(Linear, self).__init__()`；\n",
    "1. 这里我们定义了两种参数，即`self.weight`和`self.bias`；\n",
    "1. 我们在定义parameter的时候，使用了`torch.randn()`，相当于对参数进行了初始化；\n",
    "1. `forward`函数表示网络里的前向过程，得到输出。由于该类继承了nn.Module，当我们实例化该类后，如`layer = Linear(...)`，`layer()`就等于`layer.forward()`；\n",
    "1. 注意这里我们没有使用Softmax层，因为后面我们使用损失函数是`torch.nn.CrossEntropyLoss`，它里面已经包含了Softmax操作。"
   ]
  },
  {
   "cell_type": "code",
   "execution_count": 22,
   "metadata": {},
   "outputs": [],
   "source": [
    "class MLP(nn.Module):\n",
    "    def __init__(self, in_features, hidden_features, out_features):\n",
    "        super(MLP, self).__init__()\n",
    "        self.in_features = in_features\n",
    "        self.layer1 = Linear(in_features, hidden_features)  # 此处的Linear()是我们前面自定义的Linear类\n",
    "        self.layer2 = Linear(hidden_features, out_features)\n",
    "        \n",
    "    def forward(self,x):\n",
    "        x = x.view(-1, self.in_features) # 将每张图片转换成向量\n",
    "        x = self.layer1(x)\n",
    "        x = F.relu(x) # 非线性激活层，ReLU函数\n",
    "        return self.layer2(x)"
   ]
  },
  {
   "cell_type": "markdown",
   "metadata": {},
   "source": [
    "**一些注意事项**：\n",
    "1. 同样的，`MLP`这个类也需要继承`nn.Module`；\n",
    "2. 层与层之间我们需要一个非线性激活层，这里我们使用ReLU;\n",
    "3. 不是所有的MLP都需要这一步`x = x.view(-1, self.in_features)`，这里只是因为我们的输入数据是二维图片，我们需要将其变为向量。"
   ]
  },
  {
   "cell_type": "markdown",
   "metadata": {},
   "source": [
    "### 2.1.2 用PyTorch里预定义的神经网络层\n",
    "接下来我们将直接使用PyTorch里定义好的线性层（`torch.nn.Linear`）而非手动定义。"
   ]
  },
  {
   "cell_type": "code",
   "execution_count": 45,
   "metadata": {},
   "outputs": [],
   "source": [
    "class MLP(nn.Module):\n",
    "    def __init__(self, in_features, hidden_features, out_features):\n",
    "        super(MLP, self).__init__()\n",
    "        self.in_features = in_features\n",
    "        self.layer1 = nn.Linear(in_features, hidden_features) # 此处的nn.Linear是PyTorch里定义的线性层\n",
    "        self.layer2 = nn.Linear(hidden_features, out_features)\n",
    "        \n",
    "    def forward(self, x):\n",
    "        x = x.view(-1, self.in_features) # 将每张图片转换成向量\n",
    "        x = self.layer1(x)\n",
    "        x = F.relu(x) # 非线性激活层，ReLU函数\n",
    "        return self.layer2(x)"
   ]
  },
  {
   "cell_type": "markdown",
   "metadata": {},
   "source": [
    "这个MLP同前面我们的手动定义的MLP的不同之处就在于，`self.layer1`和`self.layer2`是直接调用的PyTorch中定义好的`nn.Linear`。`torch.nn`中还定义了许多网络层，如卷积层、池化层等等。详情可见[该链接](https://pytorch-cn.readthedocs.io/zh/latest/package_references/torch-nn/#_1)。"
   ]
  },
  {
   "cell_type": "markdown",
   "metadata": {},
   "source": [
    "### 2.1.3 神经网络的前向过程 Foward propogation"
   ]
  },
  {
   "cell_type": "code",
   "execution_count": 24,
   "metadata": {},
   "outputs": [],
   "source": [
    "# 这里我们继续以第一张图片为例来演示神经网络的前向过程\n",
    "# 我们首先实例化一个MLP，\n",
    "img, label = data_train[0]\n",
    "img = img.view(-1)  # view(-1)表示把矩阵变成一维向量: (1,28,28) --> (784,)\n",
    "feat_dim = len(img) # 计算输入的特征的维度（图片的维度）\n",
    "num_classes = 10\n",
    "model = MLP(in_features=feat_dim, hidden_features=256, out_features=num_classes)"
   ]
  },
  {
   "cell_type": "code",
   "execution_count": 25,
   "metadata": {},
   "outputs": [
    {
     "data": {
      "text/plain": [
       "MLP(\n",
       "  (layer1): Linear(in_features=784, out_features=256, bias=True)\n",
       "  (layer2): Linear(in_features=256, out_features=10, bias=True)\n",
       ")"
      ]
     },
     "execution_count": 25,
     "metadata": {},
     "output_type": "execute_result"
    }
   ],
   "source": [
    "model"
   ]
  },
  {
   "cell_type": "code",
   "execution_count": 26,
   "metadata": {},
   "outputs": [],
   "source": [
    "# 我们定义一个device变量，用于决定我们是否要把数据和模型放在GPU上运行\n",
    "# 如果没有安装cuda的话，则使用cpu\n",
    "device = 'cuda' if torch.cuda.is_available() else 'cpu'"
   ]
  },
  {
   "cell_type": "code",
   "execution_count": 27,
   "metadata": {},
   "outputs": [
    {
     "data": {
      "text/plain": [
       "'cpu'"
      ]
     },
     "execution_count": 27,
     "metadata": {},
     "output_type": "execute_result"
    }
   ],
   "source": [
    "device"
   ]
  },
  {
   "cell_type": "code",
   "execution_count": 28,
   "metadata": {},
   "outputs": [],
   "source": [
    "# 将模型和数据放在device上（放在cpu或者gpu上）\n",
    "model = model.to(device) \n",
    "img = img.to(device)  "
   ]
  },
  {
   "cell_type": "code",
   "execution_count": 29,
   "metadata": {},
   "outputs": [
    {
     "data": {
      "text/plain": [
       "tensor([[ 0.0083,  0.0848, -0.0011, -0.1117, -0.0153, -0.0834,  0.0636,  0.0826,\n",
       "         -0.0503, -0.0558]], grad_fn=<AddmmBackward>)"
      ]
     },
     "execution_count": 29,
     "metadata": {},
     "output_type": "execute_result"
    }
   ],
   "source": [
    "output = model(img)\n",
    "output"
   ]
  },
  {
   "cell_type": "markdown",
   "metadata": {},
   "source": [
    "模型的输出是一个长度为10的向量，我们可以认为每个元素代表对应类别的概率（这里是未归一化的概率，通常称为logits）"
   ]
  },
  {
   "cell_type": "code",
   "execution_count": 30,
   "metadata": {},
   "outputs": [
    {
     "name": "stdout",
     "output_type": "stream",
     "text": [
      "predicted label: 1 ; ground truth label: 5\n"
     ]
    }
   ],
   "source": [
    "# 我们取出其中最大值对应的类别，并和真实类别就行比较\n",
    "predicted = output.argmax()\n",
    "print('预测标签:', predicted.item(), '; 实际标签:', label)"
   ]
  },
  {
   "cell_type": "markdown",
   "metadata": {},
   "source": [
    "### 2.2 训练神经网络\n",
    "前面我们讲述了怎么搭建一个神经网络以及如何得到对应数据的输出，但是模型里的参数并没有优化过，所以预测效果往往很差。接下来我们讲解如何训练一个神经网络。\n",
    "```\n",
    "# 伪代码\n",
    "def train():\n",
    "    for epoch in num_epochs:\n",
    "        # 取一个batch的数据\n",
    "        # 前向传播forward\n",
    "        # 计算损失函数\n",
    "        # 反向传播backward\n",
    "        # 更新参数\n",
    "```"
   ]
  },
  {
   "cell_type": "code",
   "execution_count": 31,
   "metadata": {},
   "outputs": [],
   "source": [
    "# 我们定义一个train函数来封装我们的训练过程\n",
    "def train(model, data, num_epochs=5, learning_rate=1e-3, batch_size=32):\n",
    "    # 定义一个优化器，Adam优化器是梯度下降法的一个变种\n",
    "    optimizer = torch.optim.Adam(model.parameters(),\n",
    "                                 lr=learning_rate, \n",
    "                                 weight_decay=1e-5) # weight_decay表示L2正则项\n",
    "    \n",
    "    # 把训练数据封装到DataLoader，这样便于我们以及选取batch以及打乱数据顺序\n",
    "    train_loader = torch.utils.data.DataLoader(data, \n",
    "                                               batch_size=batch_size, \n",
    "                                               shuffle=True)\n",
    "    # 定义损失函数\n",
    "    criterion = nn.CrossEntropyLoss()\n",
    "    \n",
    "    for epoch in range(num_epochs):\n",
    "        loss_total = 0 # 定义一个loss_total变量来记录我们的loss变化\n",
    "        for data in train_loader:\n",
    "            # 梯度清零\n",
    "            optimizer.zero_grad()\n",
    "            \n",
    "            img, label = data\n",
    "            img = img.to(device)\n",
    "            label = label.to(device)\n",
    "            \n",
    "            # 前向传播和反向传播 \n",
    "            output = model(img)\n",
    "            loss = criterion(output, label)\n",
    "            loss.backward()\n",
    "            \n",
    "            # 优化参数\n",
    "            optimizer.step()\n",
    "            \n",
    "        loss_total += loss.item() \n",
    "        print('Epoch: {}, Training Loss: {:.4f}'.format(epoch+1, loss_total))\n"
   ]
  },
  {
   "cell_type": "code",
   "execution_count": 32,
   "metadata": {},
   "outputs": [
    {
     "name": "stdout",
     "output_type": "stream",
     "text": [
      "Epoch: 1, Training Loss: 0.0516\n",
      "Epoch: 2, Training Loss: 0.0162\n",
      "Epoch: 3, Training Loss: 0.1322\n",
      "Epoch: 4, Training Loss: 0.0097\n",
      "Epoch: 5, Training Loss: 0.0027\n"
     ]
    }
   ],
   "source": [
    "train(model, data_train)"
   ]
  },
  {
   "cell_type": "code",
   "execution_count": 33,
   "metadata": {},
   "outputs": [],
   "source": [
    "@torch.no_grad() # 由于测试的时候不需要求导，可以暂时关闭autograd，提高速度，节约内存\n",
    "def test(model, data, batch_size=128):\n",
    "    num_correct = 0 # 预测正确的图片数\n",
    "    num_total = 0 # 总共的图片数\n",
    "    \n",
    "    test_loader = torch.utils.data.DataLoader(data, \n",
    "                                              batch_size=batch_size, \n",
    "                                              shuffle=False)\n",
    "    for data in test_loader: # 按batch取出测试集中的数据\n",
    "        img, label = data\n",
    "        img = img.to(device)\n",
    "        label = label.to(device)\n",
    "        output = model(img)\n",
    "        predicted = output.argmax(1)\n",
    "        num_total += len(label)\n",
    "        num_correct += (predicted == label).sum()\n",
    "\n",
    "    print('共有{}张图片，准确率为: {:.2f}%'.format(num_correct, 100 * num_correct / num_total))    "
   ]
  },
  {
   "cell_type": "code",
   "execution_count": 34,
   "metadata": {},
   "outputs": [
    {
     "name": "stdout",
     "output_type": "stream",
     "text": [
      "共有59524张图片，准确率为: 99.21%\n",
      "共有9785张图片，准确率为: 97.85%\n"
     ]
    }
   ],
   "source": [
    "test(model, data_train)\n",
    "test(model, data_test)"
   ]
  },
  {
   "cell_type": "markdown",
   "metadata": {},
   "source": [
    "## 3. 卷积神经网络 (CNN)\n"
   ]
  },
  {
   "cell_type": "markdown",
   "metadata": {},
   "source": [
    "首先我们回归一下卷积神经网络CNN的结构图，![](figures/cnn.png)\n",
    "\n",
    "它可以被拆分为两个块（block）：特征提取部分（feature extractor）和分类部分（classification）。特征提取部分由多个卷积层构成，而分类部分由全连接层，即前馈神经网络。因此我们在定义CNN的时候也可以按照这么两部分来定义。"
   ]
  },
  {
   "cell_type": "code",
   "execution_count": 35,
   "metadata": {},
   "outputs": [],
   "source": [
    "class CNN(nn.Module):\n",
    "    def __init__(self):\n",
    "        super(CNN, self).__init__()\n",
    "        self.features = nn.Sequential( \n",
    "            nn.Conv2d(1, 16, 3, stride=2, padding=1),\n",
    "            nn.ReLU(),\n",
    "            nn.Conv2d(16, 32, 3, stride=2, padding=1),\n",
    "            nn.ReLU(),\n",
    "            nn.Conv2d(32, 64, 7)\n",
    "        )\n",
    "        self.classifier = nn.Sequential(\n",
    "            nn.Linear(64, 120),\n",
    "            nn.ReLU(),\n",
    "            nn.Linear(120, 10)\n",
    "        )\n",
    "\n",
    "    def forward(self, x):\n",
    "        x = self.features(x)\n",
    "        x = x.view(-1, 64) # 铺平成向量，flattening \n",
    "        x = self.classifier(x)\n",
    "        return x"
   ]
  },
  {
   "cell_type": "markdown",
   "metadata": {},
   "source": [
    "**注意**：\n",
    "1. 这里我们不再手动定义卷积层了，直接调用`nn.Conv2d`。对于`nn.Conv2d(1, 16, 3, stride=2, padding=1)`，其中`1`表示输入有1个通道（channel），`16`表示该层的输出有`16`个通道，`stride=2`表示卷积的平移步长是2，`padding=1`表示填充的幅度。\n",
    "\n",
    "2. 我们在定`self.features`的时候用到了`nn.Sequential()`，它是一个将多个网络层（和激活函数）结合起来的容器。用户可以通过`nn.Sequential()`来组合自己想搭建的神经网络。"
   ]
  },
  {
   "cell_type": "code",
   "execution_count": 36,
   "metadata": {},
   "outputs": [],
   "source": [
    "model = CNN().to(device)"
   ]
  },
  {
   "cell_type": "code",
   "execution_count": 37,
   "metadata": {},
   "outputs": [
    {
     "name": "stdout",
     "output_type": "stream",
     "text": [
      "Epoch: 1, Training Loss: 0.0644\n",
      "Epoch: 2, Training Loss: 0.0090\n",
      "Epoch: 3, Training Loss: 0.0258\n",
      "Epoch: 4, Training Loss: 0.0961\n",
      "Epoch: 5, Training Loss: 0.0071\n"
     ]
    }
   ],
   "source": [
    "train(model, data_train) # 调用之前定义好的train函数"
   ]
  },
  {
   "cell_type": "code",
   "execution_count": 38,
   "metadata": {},
   "outputs": [
    {
     "name": "stdout",
     "output_type": "stream",
     "text": [
      "共有59479张图片，准确率为: 99.13%\n",
      "共有9871张图片，准确率为: 98.71%\n"
     ]
    }
   ],
   "source": [
    "test(model, data_train)\n",
    "test(model, data_test)"
   ]
  },
  {
   "cell_type": "markdown",
   "metadata": {},
   "source": [
    "## 4. 自编码器 AutoEncoder\n",
    "![](figures/autoencoder.png)\n",
    "自编码器可以看作是一个试图从输出中重建输入的神经网络。它包含两个部分：编码器和解码器。编码器负责对输入进行编码，而解码器负责对编码后的信息进行重建。因此，作为一个示例，我们构建如下的由卷积神经网络构成的自编码器。"
   ]
  },
  {
   "cell_type": "code",
   "execution_count": 46,
   "metadata": {},
   "outputs": [],
   "source": [
    "class Autoencoder(nn.Module):\n",
    "    def __init__(self):\n",
    "        super(Autoencoder, self).__init__()\n",
    "        # 我们用前面CNN中使用的特征提取部分当作这里的编码器encoder\n",
    "        self.encoder = nn.Sequential( \n",
    "            nn.Conv2d(1, 16, 3, stride=2, padding=1),\n",
    "            nn.ReLU(),\n",
    "            nn.Conv2d(16, 32, 3, stride=2, padding=1),\n",
    "            nn.ReLU(),\n",
    "            nn.Conv2d(32, 32, 7)\n",
    "        )\n",
    "        \n",
    "        # 对于解码器decoder，我们需要使用nn.ConvTranspose2d\n",
    "        self.decoder = nn.Sequential(\n",
    "            nn.ConvTranspose2d(32, 32, 7),\n",
    "            nn.ReLU(),\n",
    "            nn.ConvTranspose2d(32, 16, 3, stride=2, padding=1, output_padding=1),\n",
    "            nn.ReLU(),\n",
    "            nn.ConvTranspose2d(16, 1, 3, stride=2, padding=1, output_padding=1),\n",
    "            nn.Sigmoid()\n",
    "        )\n",
    "\n",
    "    def forward(self, x):\n",
    "        x = self.encoder(x)\n",
    "        x = self.decoder(x)\n",
    "        return x"
   ]
  },
  {
   "cell_type": "markdown",
   "metadata": {},
   "source": [
    "其中编码器由卷积层构成，解码器都由反卷积层构成。"
   ]
  },
  {
   "cell_type": "code",
   "execution_count": 47,
   "metadata": {},
   "outputs": [],
   "source": [
    "autoencoder = Autoencoder().to(device) # device is either 'cpu' or 'cuda'"
   ]
  },
  {
   "cell_type": "code",
   "execution_count": 48,
   "metadata": {},
   "outputs": [],
   "source": [
    "# 大体上跟前面train()函数一致，只是损失函数和输入有所不同\n",
    "def train_autoencoder(model, data, num_epochs=10, learning_rate=1e-3, batch_size=32):\n",
    "    # 定义一个优化器，Adam优化器是梯度下降法的一个变种\n",
    "    optimizer = torch.optim.Adam(model.parameters(),\n",
    "                                 lr=learning_rate, \n",
    "                                 weight_decay=1e-5) # weight_decay表示L2正则项\n",
    "    \n",
    "    # 把训练数据封装到DataLoader，这样便于我们以及选取batch以及打乱数据顺序\n",
    "    train_loader = torch.utils.data.DataLoader(data, \n",
    "                                               batch_size=batch_size, \n",
    "                                               shuffle=True)\n",
    "    # 定义损失函数，这里我们使用MSE loss来衡量输出和输入的差别\n",
    "    criterion = nn.MSELoss()\n",
    "    \n",
    "    for epoch in range(num_epochs):\n",
    "        loss_total = 0 # 定义一个loss_total变量来记录我们的loss变化\n",
    "        for data in train_loader:\n",
    "            # 梯度清零\n",
    "            optimizer.zero_grad()\n",
    "            \n",
    "            img, _ = data\n",
    "            img = img.to(device)\n",
    "            \n",
    "            # 前向传播和反向传播 \n",
    "            output = model(img)\n",
    "            loss = criterion(output, img)\n",
    "            loss.backward()\n",
    "            \n",
    "            # 优化参数\n",
    "            optimizer.step()\n",
    "            \n",
    "        loss_total += loss.item() \n",
    "        print('Epoch: {}, Training Loss: {:.4f}'.format(epoch+1, loss_total))\n"
   ]
  },
  {
   "cell_type": "code",
   "execution_count": 49,
   "metadata": {},
   "outputs": [
    {
     "name": "stdout",
     "output_type": "stream",
     "text": [
      "Epoch: 1, Training Loss: 0.0082\n",
      "Epoch: 2, Training Loss: 0.0058\n",
      "Epoch: 3, Training Loss: 0.0055\n",
      "Epoch: 4, Training Loss: 0.0054\n",
      "Epoch: 5, Training Loss: 0.0054\n",
      "Epoch: 6, Training Loss: 0.0058\n",
      "Epoch: 7, Training Loss: 0.0050\n",
      "Epoch: 8, Training Loss: 0.0047\n",
      "Epoch: 9, Training Loss: 0.0055\n",
      "Epoch: 10, Training Loss: 0.0052\n"
     ]
    }
   ],
   "source": [
    "train_autoencoder(autoencoder, data_train)"
   ]
  },
  {
   "cell_type": "code",
   "execution_count": 50,
   "metadata": {},
   "outputs": [
    {
     "data": {
      "image/png": "[encoded data removed]",
      "text/plain": [
       "<Figure size 576x144 with 16 Axes>"
      ]
     },
     "metadata": {
      "needs_background": "light"
     },
     "output_type": "display_data"
    },
    {
     "data": {
      "image/png": "[encoded data removed]",
      "text/plain": [
       "<Figure size 576x144 with 16 Axes>"
      ]
     },
     "metadata": {
      "needs_background": "light"
     },
     "output_type": "display_data"
    },
    {
     "data": {
      "image/png": "[encoded data removed]",
      "text/plain": [
       "<Figure size 576x144 with 16 Axes>"
      ]
     },
     "metadata": {
      "needs_background": "light"
     },
     "output_type": "display_data"
    }
   ],
   "source": [
    "# 观察生成的图片的质量\n",
    "test_loader = torch.utils.data.DataLoader(data_test, \n",
    "                                          batch_size=8, \n",
    "                                          shuffle=False)\n",
    "\n",
    "\n",
    "for i, data in enumerate(test_loader):\n",
    "    img, _ = data\n",
    "    img_new = autoencoder(img).detach().numpy()\n",
    "    img = img.numpy()\n",
    "    plt.figure(figsize=(8, 2))\n",
    "    for j in range(8):\n",
    "        plt.subplot(2, 8, j+1)\n",
    "        plt.imshow(img_new[j].squeeze())\n",
    "        plt.subplot(2, 8, 8+j+1)\n",
    "        plt.imshow(img[j].squeeze())\n",
    "    if i >= 2:\n",
    "        break"
   ]
  },
  {
   "cell_type": "markdown",
   "metadata": {},
   "source": [
    "参考资料：\n",
    "\n",
    "[1] https://pytorch-cn.readthedocs.io/zh/latest/#pytorch\n",
    "\n",
    "[2] https://www.cs.toronto.edu/~lczhang/360/lec/w05/autoencoder.htmlv"
   ]
  }
 ],
 "metadata": {
  "kernelspec": {
   "display_name": "torch18",
   "language": "python",
   "name": "torch18"
  },
  "language_info": {
   "codemirror_mode": {
    "name": "ipython",
    "version": 3
   },
   "file_extension": ".py",
   "mimetype": "text/x-python",
   "name": "python",
   "nbconvert_exporter": "python",
   "pygments_lexer": "ipython3",
   "version": "3.7.10"
  }
 },
 "nbformat": 4,
 "nbformat_minor": 4
}
